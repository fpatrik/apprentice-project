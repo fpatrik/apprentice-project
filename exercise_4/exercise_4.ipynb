{
 "cells": [
  {
   "cell_type": "markdown",
   "id": "e52e5b8a-3147-48fd-9a92-636b3501e577",
   "metadata": {},
   "source": [
    "# Exercise 4\n",
    "## Das Mandelbrot\n",
    "\n",
    "### Aufgabe 1\n",
    "\n",
    "Nun machen wir ein paar Bildli :). Dafür brauchen wir eine 2-dimensionale Liste. Hier ist ein Beispiel:"
   ]
  },
  {
   "cell_type": "code",
   "execution_count": null,
   "id": "3d8bb8c1-41d4-40b1-b143-e8423d5226ee",
   "metadata": {},
   "outputs": [],
   "source": [
    "import numpy as np\n",
    "import matplotlib.pyplot as plt\n",
    "\n",
    "def make_2d_plot(data):\n",
    "    plt.imshow(data)"
   ]
  },
  {
   "cell_type": "code",
   "execution_count": null,
   "id": "2c595da6-2169-4188-b01a-3a58a759b56a",
   "metadata": {},
   "outputs": [],
   "source": [
    "# \"zeros\" bedeutet, dass wir 0 verwenden und (9, 9) bedeutet wir haben 9x9 Pixel.\n",
    "data = np.zeros((9, 9))\n",
    "print(data)\n",
    "make_2d_plot(data)"
   ]
  },
  {
   "cell_type": "markdown",
   "id": "cda45e61-8ff3-4916-aa36-a9f4ac430576",
   "metadata": {},
   "source": [
    "Wir können ein Pixel so bearbeiten:"
   ]
  },
  {
   "cell_type": "code",
   "execution_count": null,
   "id": "c152c0af-dd11-4ce1-bdac-0cfbc0bc14c2",
   "metadata": {},
   "outputs": [],
   "source": [
    "data = np.zeros((9, 9))\n",
    "data[3, 3] = 1\n",
    "print(data)\n",
    "make_2d_plot(data)"
   ]
  },
  {
   "cell_type": "markdown",
   "id": "5619d6ba-f982-4afa-8858-9481f3021672",
   "metadata": {},
   "source": [
    "Wir können auch alle Pixel bearbeiten:"
   ]
  },
  {
   "cell_type": "code",
   "execution_count": null,
   "id": "271be09d-2be7-498c-b078-904512297547",
   "metadata": {},
   "outputs": [],
   "source": [
    "def super_fancy_plot():\n",
    "    data = np.zeros((9,9))\n",
    "    \n",
    "    # row ist die Reihe im Bild und column die Spalte\n",
    "    for row in range(9):\n",
    "        for column in range(9):\n",
    "            data[row, column] = row + column\n",
    "    \n",
    "    plt.imshow(data)"
   ]
  },
  {
   "cell_type": "code",
   "execution_count": null,
   "id": "bfbc4b01-a6d5-4f54-ae2d-3c76fb164282",
   "metadata": {},
   "outputs": [],
   "source": [
    "super_fancy_plot()"
   ]
  },
  {
   "cell_type": "markdown",
   "id": "bd9d3004-da15-429a-a692-b11542a02678",
   "metadata": {},
   "source": [
    "Bearbeite die Pixel selber, wie es dir gefällt!"
   ]
  },
  {
   "cell_type": "code",
   "execution_count": null,
   "id": "b8e000a9-2412-42c1-a995-ba7379597f32",
   "metadata": {},
   "outputs": [],
   "source": [
    "def super_fancy_plot():\n",
    "    data = np.zeros((9,9))\n",
    "\n",
    "    # row ist die Reihe im Bild und column die Spalte\n",
    "    for row in range(9):\n",
    "        for column in range(9):\n",
    "            ...\n",
    "    \n",
    "    plt.imshow(data)"
   ]
  },
  {
   "cell_type": "markdown",
   "id": "8d1d9679-5a75-4a81-981a-53717a69a8ae",
   "metadata": {},
   "source": [
    "### Aufgabe 2\n",
    "\n",
    "Kannst du einen Plot machen, welcher aussieht wie ein Schachbrett? Das hat natürlich damit zu tun, ob `row` und `column` gerade sind..."
   ]
  },
  {
   "cell_type": "code",
   "execution_count": null,
   "id": "da44b87a-25f0-426c-813a-4d1c1175888d",
   "metadata": {},
   "outputs": [],
   "source": [
    "def my_chessboard():\n",
    "    data = np.zeros((9,9))\n",
    "\n",
    "    # row ist die Reihe im Bild und column die Spalte\n",
    "    for row in range(9):\n",
    "        for column in range(9):\n",
    "            ...\n",
    "    \n",
    "    plt.imshow(data)\n",
    "\n",
    "my_chessboard()"
   ]
  },
  {
   "cell_type": "markdown",
   "id": "9aacb1ac-7b6c-4be0-a465-7c91eafcf3cf",
   "metadata": {},
   "source": [
    "### Aufgabe 3\n",
    "\n",
    "Wir möchten nun ein Bild laden und hineinzoomen. Diese Funktionen helfen uns dabei:\n"
   ]
  },
  {
   "cell_type": "code",
   "execution_count": null,
   "id": "a122fd66-f8a5-4f02-a0f1-10533bcd93d9",
   "metadata": {},
   "outputs": [],
   "source": [
    "from PIL import Image\n",
    "def load_image():\n",
    "    img = Image.open(\"lunch.jpg\").convert('L')\n",
    "    data = np.array(img.getdata(), dtype=np.uint8)\n",
    "    return np.resize(data, (img.size[1], img.size[0]))\n",
    "\n",
    "def show_black_white_image(data):\n",
    "    plt.imshow(data, cmap='Greys_r')\n",
    "    \n",
    "data = load_image()\n",
    "show_black_white_image(data)\n",
    "    "
   ]
  },
  {
   "cell_type": "markdown",
   "id": "537160b1-f1b9-4984-9ca8-edef80041fe2",
   "metadata": {},
   "source": [
    "Um das Bild zu vergrössern brauchen wir die `linspace` Funktion von `numpy`. Verstehst du was sie macht? Hier ein paar Beispiele:"
   ]
  },
  {
   "cell_type": "code",
   "execution_count": null,
   "id": "e57fe0ab-6612-4e74-8850-f850b38600f3",
   "metadata": {},
   "outputs": [],
   "source": [
    "np.linspace(start=0, stop=10, num=5, dtype=int)"
   ]
  },
  {
   "cell_type": "code",
   "execution_count": null,
   "id": "394bbbb2-db03-4f83-afee-b09acca85019",
   "metadata": {},
   "outputs": [],
   "source": [
    "np.linspace(start=10, stop=100, num=10, dtype=int)"
   ]
  },
  {
   "cell_type": "markdown",
   "id": "3d5f88b2-6275-474f-b5ca-9dbba96066a6",
   "metadata": {},
   "source": [
    "Ebenfalls werden wir `enumerate` brauchen, verstehst du diese Funktion?"
   ]
  },
  {
   "cell_type": "code",
   "execution_count": null,
   "id": "ce272766-ca5d-4a3e-9864-7d96ddaf1b69",
   "metadata": {},
   "outputs": [],
   "source": [
    "list(enumerate(['a', 'b', 'c', 'd']))"
   ]
  },
  {
   "cell_type": "code",
   "execution_count": null,
   "id": "1060f3b0-769b-40da-a13c-6bd16ac9afc7",
   "metadata": {},
   "outputs": [],
   "source": [
    "for index, value in enumerate(['a', 'b', 'c', 'd']):\n",
    "    print(f'Index: {index}, value: {value}')"
   ]
  },
  {
   "cell_type": "markdown",
   "id": "dda85608-a9e2-4469-aa97-38c7c9be9aba",
   "metadata": {},
   "source": [
    "Wir können das Bild nun vergrössern:"
   ]
  },
  {
   "cell_type": "code",
   "execution_count": null,
   "id": "dad4c366-fe55-4605-8c86-59df87cc9699",
   "metadata": {},
   "outputs": [],
   "source": [
    "def zoom_in(size=500):\n",
    "    data = load_image()\n",
    "    \n",
    "    # Der Zoom hat size x size Pixel\n",
    "    zoom_data = np.zeros((size, size))\n",
    "\n",
    "    for new_row, original_row in enumerate(np.linspace(0, 300, num=size, dtype=int)):\n",
    "        for new_column, new_original_row in enumerate(np.linspace(0, 300, num=size, dtype=int)):\n",
    "            zoom_data[new_row, new_column] = data[original_row, new_original_row]\n",
    "    \n",
    "    plt.imshow(zoom_data, cmap='Greys_r')\n",
    "    \n",
    "zoom_in()"
   ]
  },
  {
   "cell_type": "markdown",
   "id": "0fc6ce4c-aab3-430a-9a58-5ac3c146d37a",
   "metadata": {},
   "source": [
    "Leider zeigt dieser Zoom nur die linke obere Ecke... Kannst du die Funktion verbessern, damit man auch in andere Ausschnitte Zoomen kann? Du kannst dafür die argumente von `np.linspace` anpassen."
   ]
  },
  {
   "cell_type": "code",
   "execution_count": null,
   "id": "fb9f63c3-feb9-4ca5-8a07-e6708b503f20",
   "metadata": {},
   "outputs": [],
   "source": [
    "def better_zoom_in(size=500, row_start=100, row_end=200, column_start=100, column_end=200):\n",
    "    data = load_image()\n",
    "    \n",
    "    # Der Zoom hat size x size Pixel\n",
    "    zoom_data = np.zeros((size, size))\n",
    "\n",
    "    for new_row, original_row in enumerate(np.linspace(..., ..., num=size, dtype=int)):\n",
    "        for new_column, new_original_row in enumerate(np.linspace(..., ..., num=size, dtype=int)):\n",
    "            zoom_data[new_row, new_column] = data[original_row, new_original_row]\n",
    "    \n",
    "    plt.imshow(zoom_data, cmap='Greys_r')\n",
    "\n",
    "# Hier kannst du die Werte anpassen um in andere Bereiche zu Zoomen\n",
    "better_zoom_in(row_start=100, row_end=200, column_start=100, column_end=200)"
   ]
  },
  {
   "cell_type": "markdown",
   "id": "0ce84462-d378-4948-b7f9-4cd5253f50e9",
   "metadata": {},
   "source": [
    "### Aufgabe 4\n",
    "Nun werden wir das Mandelbrot zeichnen."
   ]
  },
  {
   "cell_type": "code",
   "execution_count": null,
   "id": "7c1a6f89-9b2a-45d7-8029-d82e0b3c91c0",
   "metadata": {},
   "outputs": [],
   "source": [
    "# Das musst du nicht verstehen :)\n",
    "def mandelbrot_value(x, y, iterations = 10):\n",
    "    re, im = x, y\n",
    "    for i in range(iterations):\n",
    "        re, im = re ** 2 - im ** 2 + x, 2 * re * im + y\n",
    "        a = re ** 2 + im ** 2\n",
    "        if a > 10e4:\n",
    "            break\n",
    "    return np.log(a)"
   ]
  },
  {
   "cell_type": "code",
   "execution_count": null,
   "id": "eb432c6c-3b6e-4e70-83a9-8e64101a884d",
   "metadata": {},
   "outputs": [],
   "source": [
    "def mandelbrot():\n",
    "    data = np.zeros((600, 400))\n",
    "\n",
    "    for row, x in enumerate(np.linspace(-2, 1, num=600)):\n",
    "        for column, y in enumerate(np.linspace(-1, 1, num=400)):\n",
    "            data[row, column] = mandelbrot_value(x, y, iterations = 40)\n",
    "    \n",
    "    plt.imshow(data)\n",
    "\n",
    "mandelbrot()"
   ]
  },
  {
   "cell_type": "markdown",
   "id": "102ffa51-36cd-4a81-ae21-76adf637baa3",
   "metadata": {},
   "source": [
    "Kannst du eine Funktion schreiben mit der man ins Mandelbrot zoomen kann? Findest du einen schönen Ausschnitt? Ich habe mir gedacht man könnte `x_end = x_start + width` und `y_end = y_start + width` verwenden."
   ]
  },
  {
   "cell_type": "code",
   "execution_count": null,
   "id": "6bef0ac6-2253-4d76-b514-0dd0037a3ee7",
   "metadata": {},
   "outputs": [],
   "source": [
    "def mandelbrot_with_zoom(size=500, x_start=-0.5, y_start=0.5, width=0.5, iterations=20):\n",
    "    ..."
   ]
  },
  {
   "cell_type": "code",
   "execution_count": null,
   "id": "b21f364a-d8cc-442f-a854-ad3be77e8fe8",
   "metadata": {},
   "outputs": [],
   "source": [
    "mandelbrot_with_zoom(size=500, x_start=-0.5, y_start=0.5, width=0.2, iterations=80)"
   ]
  }
 ],
 "metadata": {
  "kernelspec": {
   "display_name": "Python 3 (ipykernel)",
   "language": "python",
   "name": "python3"
  },
  "language_info": {
   "codemirror_mode": {
    "name": "ipython",
    "version": 3
   },
   "file_extension": ".py",
   "mimetype": "text/x-python",
   "name": "python",
   "nbconvert_exporter": "python",
   "pygments_lexer": "ipython3",
   "version": "3.10.2"
  }
 },
 "nbformat": 4,
 "nbformat_minor": 5
}
