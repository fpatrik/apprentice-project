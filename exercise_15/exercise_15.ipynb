{
 "cells": [
  {
   "cell_type": "markdown",
   "id": "429abe9d-5395-45f1-a00f-6278465a8f91",
   "metadata": {},
   "source": [
    "# Exercise 15\n",
    "## Stable Diffusion\n",
    "\n",
    "Stable Diffusion ist ein Machine Learning Modell, welches Bilder aus Text generieren kann.\n",
    "\n",
    "### Aufgabe 1\n",
    "\n",
    "Lies zuerst diesen Artikel: https://stable-diffusion-art.com/how-stable-diffusion-work\n",
    "Du musst nicht alles verstehen. Kannst du etwas zu folgenden Themen sagen?\n",
    "\n",
    "1. Was versteht man unter \"Diffusion\"? Was bedeutet \"Forward Diffusion\" und \"Reverse Diffusion\"?\n",
    "2. Was ist der Unterschied zwischen \"Pixel Space\" und \"Latent Space\"?\n",
    "3. Was ist ein Embedding?\n",
    "4. Wie macht Stable Diffusion aus einem Text ein Bild?"
   ]
  },
  {
   "cell_type": "code",
   "execution_count": null,
   "id": "e5057c52-51b5-4c99-a9d9-eac1ef276980",
   "metadata": {},
   "outputs": [],
   "source": [
    "..."
   ]
  },
  {
   "cell_type": "markdown",
   "id": "5cfd589b-64c0-4fc0-a518-8475dbe7f979",
   "metadata": {},
   "source": [
    "### Aufgabe 2\n",
    "\n",
    "Installiere nun: https://github.com/AUTOMATIC1111/stable-diffusion-webui\n",
    "Dafür musst du etwa folgendes machen:\n",
    "    \n",
    "1. Finde heraus, ob dein Laptop einen Nvidia GPU hat. Falls nicht, öffne eine Konsole und lasse `export COMMANDLINE_ARGS=\"--skip-torch-cuda-test --precision full --no-half\"` laufen. Das Modell verwendet dann nur den CPU und ist recht langsam.\n",
    "\n",
    "2. Lasse nun `bash <(wget -qO- https://raw.githubusercontent.com/AUTOMATIC1111/stable-diffusion-webui/master/webui.sh)` laufen.\n",
    "3. Falls alles geklappt hat, siehst du in der Konsole eine URL, welche du im Browser öffnen kannst."
   ]
  },
  {
   "cell_type": "markdown",
   "id": "1bcc8cd8-ccf6-4621-bf26-e28108a74f36",
   "metadata": {},
   "source": [
    "### Aufgabe 3\n",
    "\n",
    "Experimentiere nun mit den text-to-image und image-to-image Modellen. Mit dem text-to-image Modell kannst du Text in ein Bild verwandeln. Mit dem image-to-image Modell kannst du ein Bild bearbeiten, also z.B. seinen Stil ändern."
   ]
  }
 ],
 "metadata": {
  "kernelspec": {
   "display_name": "Python 3 (ipykernel)",
   "language": "python",
   "name": "python3"
  },
  "language_info": {
   "codemirror_mode": {
    "name": "ipython",
    "version": 3
   },
   "file_extension": ".py",
   "mimetype": "text/x-python",
   "name": "python",
   "nbconvert_exporter": "python",
   "pygments_lexer": "ipython3",
   "version": "3.10.2"
  }
 },
 "nbformat": 4,
 "nbformat_minor": 5
}
