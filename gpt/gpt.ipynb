{
 "cells": [
  {
   "cell_type": "markdown",
   "id": "35af652a-2823-4e20-98f0-8bb97eaee9b5",
   "metadata": {},
   "source": [
    "# GPT\n",
    "\n",
    "## Einleitung\n",
    "\n",
    "### API\n",
    "\n",
    "Unten befindet sich eine fertige Umsetzung einer API, mit welcher wir GPT verwenden können."
   ]
  },
  {
   "cell_type": "code",
   "execution_count": null,
   "id": "a2513aea-a287-4f24-9b88-da5f5e5da21d",
   "metadata": {},
   "outputs": [],
   "source": [
    "import openai\n",
    "openai.api_key = ...\n",
    "\n",
    "class OpenaiClient:\n",
    "    def get_gpt_completion(self, prompt: str, **kwargs) -> str:\n",
    "        completion = openai.ChatCompletion.create(\n",
    "            model=\"gpt-3.5-turbo\",\n",
    "            messages=[{\n",
    "                'role': 'user',\n",
    "                'content': prompt\n",
    "            }],\n",
    "            temperature=0.25,\n",
    "            max_tokens=512,\n",
    "            **kwargs\n",
    "        )\n",
    "        completion = completion['choices'][0]['message']['content'].encode(\"utf-8\", \"replace\").decode()\n",
    "\n",
    "        return completion\n",
    "\n",
    "    def get_gpt_embedding(self, text: str, **kwargs):\n",
    "        response = openai.Embedding.create(\n",
    "            input=text,\n",
    "            model=\"text-embedding-ada-002\",\n",
    "            **kwargs\n",
    "        )\n",
    "        embedding = response['data'][0]['embedding']\n",
    "        return embedding"
   ]
  },
  {
   "cell_type": "markdown",
   "id": "0b42b997-56e1-492a-8387-1ccf78808fb7",
   "metadata": {},
   "source": [
    "Wir können die API nun wie folgt verwenden:"
   ]
  },
  {
   "cell_type": "code",
   "execution_count": null,
   "id": "12d6aaaa-658a-4f53-93ee-210e0482711b",
   "metadata": {},
   "outputs": [],
   "source": [
    "client = OpenaiClient()\n",
    "\n",
    "result = client.get_gpt_completion('Hallo, wer bist du?')\n",
    "print(result)"
   ]
  },
  {
   "cell_type": "markdown",
   "id": "ec7b9e90-2dc3-4b1d-9a6b-8db31b947e7a",
   "metadata": {},
   "source": [
    "### Embeddings\n",
    "\n",
    "Neben Vervollständigung von Text bietet OpanAI auch Embeddings an. Embeddings sind eine Liste von Zahlen, welche die Bedeutung eines Texts repräsentieren. Führe den Code unten aus um die Ähnlichkeit verschiedener Texte zu ermitteln. Du kannst die Texte gerne auch selber anpassen. Machen die Resultate Sinn für dich?"
   ]
  },
  {
   "cell_type": "code",
   "execution_count": null,
   "id": "07963f95-5701-49e1-a999-558ade6a3fff",
   "metadata": {},
   "outputs": [],
   "source": [
    "from numpy import dot\n",
    "from numpy.linalg import norm\n",
    "\n",
    "TEXTS = [\n",
    "    'Ich gehe gerne zur Schule, weil ich dort so viel lernen kann.',\n",
    "    'In der ersten Klasse wurde mir so viel beigebracht',\n",
    "    'A Random Walk Down Wall Street',\n",
    "]\n",
    "\n",
    "client = OpenaiClient()\n",
    "text_embeddings = [client.get_gpt_embedding(t) for t in TEXTS]\n",
    "\n",
    "for i, text_1 in enumerate(TEXTS):\n",
    "    for j, text_2 in enumerate(TEXTS):\n",
    "        if j > i:\n",
    "            continue\n",
    "\n",
    "        emedding_1 = text_embeddings[i]\n",
    "        emedding_2 = text_embeddings[j]\n",
    "\n",
    "        similarity = dot(emedding_1, emedding_2)/(norm(emedding_1)*norm(emedding_2))\n",
    "\n",
    "        print(f'TEXT 1: {text_1}')\n",
    "        print(f'TEXT 2: {text_2}')\n",
    "        print(f'ÄHNLICHKEIT: {similarity}')\n",
    "        print()\n",
    "        "
   ]
  },
  {
   "cell_type": "markdown",
   "id": "a959fc37-467b-467b-b60c-a14e5686281b",
   "metadata": {},
   "source": [
    "### Chatbot\n",
    "\n",
    "Unten findest du eine Implementierung eines einfachen Chatbots. Verstehst du die Funktionsweise?"
   ]
  },
  {
   "cell_type": "code",
   "execution_count": null,
   "id": "95faf892-1627-41e9-9e1e-06e884c16a19",
   "metadata": {},
   "outputs": [],
   "source": [
    "import numpy as np\n",
    "\n",
    "PROMPT = lambda query, hint: f\"\"\"\n",
    "    Du bist ein Chatbot, der Leute zum lachen bringen soll. Gib dem User eine lustige Antwort.\n",
    "    Verwende den Hinweis, falls sinnvoll.\n",
    "\n",
    "    HINWEIS: {hint}\n",
    "    USER: {query}\n",
    "    ANTWORT: \"\"\"\n",
    "\n",
    "KNOWLEDGE_BASE = {\n",
    "    'Ich bin traurig': 'Ein Witz für traurige Leute: \"Alles hat ein Ende, nur die Wurst hat zwei.\"',\n",
    "    'Ich weiss nicht was ich tun soll': 'Ein Witz für unentschlossene: \"I used to think I was indecisive. But now I’m not so sure.\"'\n",
    "}\n",
    "\n",
    "class Chatbot:\n",
    "    def __init__(self, knowledge_base=KNOWLEDGE_BASE):\n",
    "        self.client = OpenaiClient()\n",
    "        self.knowledge_base = KNOWLEDGE_BASE\n",
    "        self.knowledge_base_embeddings = [self.client.get_gpt_embedding(t) for t in self.knowledge_base.keys()]\n",
    "\n",
    "    def respond(self, request):\n",
    "        request_embedding = self.client.get_gpt_embedding(request)\n",
    "\n",
    "        similarities = [dot(request_embedding, e)/(norm(request_embedding)*norm(e)) for e in self.knowledge_base_embeddings]\n",
    "        most_similar_index = np.argmax(similarities)\n",
    "\n",
    "        query = PROMPT(request, list(self.knowledge_base.values())[most_similar_index])\n",
    "        response = self.client.get_gpt_completion(query)\n",
    "\n",
    "        print(response)\n",
    "        \n",
    "        \n",
    "chatbot = Chatbot()"
   ]
  },
  {
   "cell_type": "code",
   "execution_count": null,
   "id": "99542fa6-bbd5-49f0-ab06-3416f02fe597",
   "metadata": {},
   "outputs": [],
   "source": [
    "chatbot.respond('Ich weiss einfach nicht mehr weiter')"
   ]
  }
 ],
 "metadata": {
  "kernelspec": {
   "display_name": "Python 3 (ipykernel)",
   "language": "python",
   "name": "python3"
  },
  "language_info": {
   "codemirror_mode": {
    "name": "ipython",
    "version": 3
   },
   "file_extension": ".py",
   "mimetype": "text/x-python",
   "name": "python",
   "nbconvert_exporter": "python",
   "pygments_lexer": "ipython3",
   "version": "3.11.3"
  }
 },
 "nbformat": 4,
 "nbformat_minor": 5
}
