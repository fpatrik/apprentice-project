{
 "cells": [
  {
   "cell_type": "markdown",
   "id": "99cd5cd3-359b-4d22-8486-6903bb62f8e0",
   "metadata": {},
   "source": [
    "# Exercise 3\n",
    "\n",
    "## Collatz-Problem\n",
    "\n",
    "Collatz hat folgende Vermutung aufgestellt:\n",
    "1. Man beginne beliebigen ganzen Zahl `n`\n",
    "2. Falls die Zahl gerade ist, teilt man sie durch zwei. Falls die Zahl ungerade ist berechnet man `3 * n + 1`.\n",
    "3. Dies wiederholt man nun mir der neuen Zahl usw.\n",
    "\n",
    "Die Aussage ist, dass man endlich immer bei 1 endet. Mehr findest du auf Wikipedia: https://de.wikipedia.org/wiki/Collatz-Problem\n",
    "\n",
    "Ein Beispiel:\n",
    "1. Wir beginnen mit 5\n",
    "2. 5 ist ungerade, wir berechnen `3 * n + 1`, also 3 * 5 + 1 = 16\n",
    "3. 16 ist gerade wir teilen durch 2: 16 / 2 = 8\n",
    "4. 8 ist gerade, 8 / 2 = 4\n",
    "5. 4 ist gerade, 4 / 2 = 2\n",
    "6. 2 ist gerade, 2 / 2 = 1\n",
    "7. Wir sind bei 1 angelangt und fertig\n"
   ]
  },
  {
   "cell_type": "markdown",
   "id": "1a9376c2-da43-4c7d-8465-596c0106db0a",
   "metadata": {},
   "source": [
    "### Aufgabe 1\n",
    "\n",
    "Finde heraus wie man überprüft, ob eine Zahl gerade ist (gerade ist `True` und ungerade ist `False`) und schreibe eine Funktion dafür:"
   ]
  },
  {
   "cell_type": "code",
   "execution_count": null,
   "id": "96309030-9625-4fdd-aca3-8b4a0ec90797",
   "metadata": {},
   "outputs": [],
   "source": [
    "def is_even(number):\n",
    "    ..."
   ]
  },
  {
   "cell_type": "code",
   "execution_count": null,
   "id": "e9296b00-e9f2-49f3-98bf-e5f0c9a5513b",
   "metadata": {},
   "outputs": [],
   "source": [
    "assert is_even(2)\n",
    "assert not is_even(3)"
   ]
  },
  {
   "cell_type": "markdown",
   "id": "8decb09b-f2b8-425b-b7cb-c914cb4344f1",
   "metadata": {},
   "source": [
    "### Aufgabe 2\n",
    "Erstelle nun eine Funktion welche die nächste Zahl in der Collatz-Folge berechnet. Also muss man `n / 2` für eine gerade Zahl und `3 * n + 1` für eine ungerade Zahl berechnen:"
   ]
  },
  {
   "cell_type": "code",
   "execution_count": null,
   "id": "4e87e446-93ad-455b-93a6-dc04cb86fb47",
   "metadata": {},
   "outputs": [],
   "source": [
    "def next_collatz_number(number):\n",
    "    ..."
   ]
  },
  {
   "cell_type": "code",
   "execution_count": null,
   "id": "3826f8db-8906-4946-9400-11fff2840adc",
   "metadata": {},
   "outputs": [],
   "source": [
    "assert next_collatz_number(2) == 1\n",
    "assert next_collatz_number(3) == 10"
   ]
  },
  {
   "cell_type": "markdown",
   "id": "f2764dea-b569-4780-b5ae-8d330177df6f",
   "metadata": {},
   "source": [
    "### Aufgabe 3\n",
    "\n",
    "Nun möchten wir eine Funktion schreiben welche die ganze Collatz-Folge für eine Startzahl berechnet. Du kannst `next_collatz_number` so lange verwenden bis du bei 1 angelangt ist. Das Resultat soll eine Liste mit allen Zahlen sein welche du auf dem Weg angetroffen hast. Vielleicht möchtest du dafür eine `while`-Schlaufe verwenden. Du kannst auch `next_collatz_number` wiederverwenden, wenn du willst."
   ]
  },
  {
   "cell_type": "code",
   "execution_count": null,
   "id": "7eaed42b-325a-4229-8702-3fef5c5e2e54",
   "metadata": {},
   "outputs": [],
   "source": [
    "def collatz_series(number):\n",
    "    series = []\n",
    "    ...\n",
    "    \n",
    "    return series"
   ]
  },
  {
   "cell_type": "code",
   "execution_count": null,
   "id": "a213598d-cfa6-4efd-ab8e-23bbf989b48e",
   "metadata": {},
   "outputs": [],
   "source": [
    "assert collatz_series(5) == [5, 16, 8, 4, 2, 1]"
   ]
  },
  {
   "cell_type": "markdown",
   "id": "27d6f3a3-b6a7-40f2-aa88-7dc8bb7ba29e",
   "metadata": {},
   "source": [
    "### Aufgabe 4\n",
    "\n",
    "Wie lange ist die Collatz-Folge für die Zahl `9`?"
   ]
  },
  {
   "cell_type": "code",
   "execution_count": null,
   "id": "aa1ecc69-2169-41c1-809d-a5c106c558c0",
   "metadata": {},
   "outputs": [],
   "source": [
    "..."
   ]
  },
  {
   "cell_type": "markdown",
   "id": "7f38c45a-b8a5-4341-90c0-5597dc9aaf10",
   "metadata": {},
   "source": [
    "### Aufgabe 5\n",
    "\n",
    "Berechne die Länge der Collatz-Folge für alle Zahlen bis 100. Für welche Zahl ist die Folge am längsten und wie lange ist sie? Hier könntest du die `range()` Funktion verwenden. Oder du machst wieder eine `while`-Schlaufe."
   ]
  },
  {
   "cell_type": "code",
   "execution_count": null,
   "id": "07bdcb5d-86a3-4495-bd25-cd86df45be78",
   "metadata": {},
   "outputs": [],
   "source": [
    "..."
   ]
  },
  {
   "cell_type": "markdown",
   "id": "eaa8a5a9-4991-47ef-91c1-1490634069a1",
   "metadata": {},
   "source": [
    "### Aufgabe 6\n",
    "\n",
    "Wir möchten nun visualisieren wie die Collatz-Folge verläuft. Mit dieser Funktion kannst du eine Liste visualisieren:"
   ]
  },
  {
   "cell_type": "code",
   "execution_count": null,
   "id": "e5424388-66a8-43a4-8211-ef142fb25b3c",
   "metadata": {},
   "outputs": [],
   "source": [
    "# Wir importieren hier ein Packages welches plotten ermöglicht\n",
    "import matplotlib.pyplot as plt\n",
    "\n",
    "def plot_list(some_list):\n",
    "    plt.plot(some_list)\n",
    "    plt.show()"
   ]
  },
  {
   "cell_type": "code",
   "execution_count": null,
   "id": "8d747547-f9d2-40ca-84e2-d36555ceda94",
   "metadata": {},
   "outputs": [],
   "source": [
    "plot_list([1, 5, 2, 4, 5])"
   ]
  },
  {
   "cell_type": "markdown",
   "id": "9dd1d4a4-c335-492b-b804-e01232732c87",
   "metadata": {},
   "source": [
    "Mache nun einen Plot für die Collatz-Folge einer Zahl deiner Wahl!"
   ]
  },
  {
   "cell_type": "code",
   "execution_count": null,
   "id": "186c1747-1e5c-4467-9e25-373431ff1db9",
   "metadata": {},
   "outputs": [],
   "source": [
    "..."
   ]
  }
 ],
 "metadata": {
  "kernelspec": {
   "display_name": "Python 3 (ipykernel)",
   "language": "python",
   "name": "python3"
  },
  "language_info": {
   "codemirror_mode": {
    "name": "ipython",
    "version": 3
   },
   "file_extension": ".py",
   "mimetype": "text/x-python",
   "name": "python",
   "nbconvert_exporter": "python",
   "pygments_lexer": "ipython3",
   "version": "3.10.2"
  }
 },
 "nbformat": 4,
 "nbformat_minor": 5
}
