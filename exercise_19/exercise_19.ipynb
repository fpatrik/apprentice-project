{
 "cells": [
  {
   "cell_type": "markdown",
   "id": "44620a89-74f6-4212-93c0-6e746b80a15c",
   "metadata": {},
   "source": [
    "# Exercise 19\n",
    "\n",
    "## Audio Klassifizierung\n",
    "\n",
    "Wir möchten nun versuchen Audio Dateien zu klassifizieren. In diesem Fall haben wir Geräusche von Hunden und Katzen. Können wir erkennen von welchem Tier das Geräusch stammt?"
   ]
  },
  {
   "cell_type": "code",
   "execution_count": null,
   "id": "8b33bfd7-db39-4971-9ee4-045b37ce0f9f",
   "metadata": {},
   "outputs": [],
   "source": [
    "import os\n",
    "import numpy as np\n",
    "from scipy import signal\n",
    "import scipy.io.wavfile as wavf\n",
    "import matplotlib.pyplot as plt\n",
    "\n",
    "# Diese Funktion erstellt einen Ton von Länge s Sekunden und mit Frequenz hz.\n",
    "# Die samplerate gibt an wie viele \"Werte\" wir pro Sekunde abspielen.\n",
    "# Die Werte sind einfach eine Liste von Zahlen!\n",
    "def create_sound_wave(hz, s, samplerate=44100):\n",
    "    return [np.sin(i * 2 * np.pi * hz / samplerate) for i in range(int(samplerate * s))]\n",
    "\n",
    "# Diese Funktion nimmt nun die Zahlenwerte und speichert sie als wav file.\n",
    "def save_sound(sound_list, samplerate=44100, file='out.wav'):\n",
    "    wavf.write(out_f, samplerate, np.array(sound_list, dtype=np.float32))\n",
    "\n",
    "# Dise Funktion spielt schliesslich das wav file ab.\n",
    "def play_sound(file='out.wav'):\n",
    "    os.system(f'aplay {file}')\n",
    "\n",
    "# List eine wav Datei und gibt ein array mit den Werten zurück.\n",
    "def read_sound(file='out.wav'):\n",
    "    return wavf.read(file)[1]\n",
    "\n",
    "# Erstellt ein Spektrogram, wobei f die Frequenzen, t die Zeit und Sxx die Werte sind.\n",
    "def create_spectrogram(sound_wave, samplerate=44100):\n",
    "    f, t, Sxx = signal.spectrogram(sound_wave, samplerate)\n",
    "    return f, t, Sxx\n",
    "\n",
    "# Erstellt ein Spektrogram Plot.\n",
    "def plot_spectrogram(sound_wave, samplerate=44100):\n",
    "    f, t, Sxx = create_spectrogram(sound_wave, samplerate)\n",
    "    \n",
    "    plt.pcolormesh(t, f, Sxx, shading='gouraud')\n",
    "    plt.ylabel('Frequency [Hz]')\n",
    "    plt.xlabel('Time [sec]')\n",
    "    plt.show()"
   ]
  },
  {
   "cell_type": "markdown",
   "id": "fb9b7ccd-5c17-4078-b516-88543fa10a13",
   "metadata": {},
   "source": [
    "### Aufgabe 1\n",
    "\n",
    "Spiele zuerst ein paar Audiofiles aus dem `data` Ordner ab,"
   ]
  },
  {
   "cell_type": "code",
   "execution_count": null,
   "id": "662a87eb-3428-4f27-9ca5-25c1bfeb38bf",
   "metadata": {},
   "outputs": [],
   "source": [
    "play_sound(file='data/test/cat_75.wav')"
   ]
  },
  {
   "cell_type": "markdown",
   "id": "dc1f26d6-c6c0-4ed8-8f46-acacfeda31a5",
   "metadata": {},
   "source": [
    "### Aufgabe 2\n",
    "\n",
    "Schaue dir nun das Spektrogram dieser Audiodateien an. Siehst du Unterschiede im Spektogram zwischen Hunden und Katzen? Achtung, die Samplerate ist nun `16000`."
   ]
  },
  {
   "cell_type": "code",
   "execution_count": null,
   "id": "ce6647b0-d58d-43b4-8b4e-94a0a0820b8b",
   "metadata": {},
   "outputs": [],
   "source": [
    "..."
   ]
  },
  {
   "cell_type": "markdown",
   "id": "a12d4c54-4afd-41b7-8aa7-da3856fd26d7",
   "metadata": {},
   "source": [
    "### Aufgabe 3\n",
    "\n",
    "Wir erstellen nun ein einfaches Modell, um die Audiodateien zu klassifizieren. Erstelle zuerst eine Funktion welche Eigenschaften aus der Audiodatei extrahiert, wie folgt:\n",
    "    \n",
    "1. Öffne die Audiodatei.\n",
    "2. Berechne den Absolutbetrag der Werte.\n",
    "3. Berechne dann den durchschnittlichen Wert (also etwa die Lautstärke) und die Varianz (`np.var`).\n",
    "4. Erkenne ausserdem, ob es sich um einen Hund (Wert `1`) oder um eine Katze (Wert `0`) handelt (aus dem Dateinamen).\n",
    "5. Der Output sollte sein: `return [mean, variance], is_dog`"
   ]
  },
  {
   "cell_type": "code",
   "execution_count": null,
   "id": "6569647f-d477-469d-9279-f896a83fd072",
   "metadata": {},
   "outputs": [],
   "source": [
    "# Input wäre z.B. './data/test/dog_barking_19.wav'\n",
    "# Resultat wäre z.B. [[1, 2], 0]\n",
    "def extract_simple_features(file_name):\n",
    "    ..."
   ]
  },
  {
   "cell_type": "markdown",
   "id": "3f56d44f-d44d-4351-8ab0-918041ec7dda",
   "metadata": {},
   "source": [
    "Erstelle nun eine Funktion, welche die Trainings- oder Testdaten erstellt. Finde dafür alle Files im richtigen Ordner (also Test oder Train). Führe dann `extract_simple_features` für jedes File aus und sammle die beiden Resultate (Features und Hund/Katze) jeweils in einer Liste."
   ]
  },
  {
   "cell_type": "code",
   "execution_count": null,
   "id": "2586d9e1-9eef-4b69-9e72-b3ea3e2a91da",
   "metadata": {},
   "outputs": [],
   "source": [
    "# Wenn `train=True`, nimm die Files aus dem `train` Ordner. Sonst die aus dem `test` Ordner.\n",
    "# Resultat wäre z.B. [[1,2], [3, 4]], [1, 0]\n",
    "def create_dataset(train=True):\n",
    "    ..."
   ]
  },
  {
   "cell_type": "markdown",
   "id": "d658e69a-a832-4089-9891-a5dfc8f0109a",
   "metadata": {},
   "source": [
    "Erstelle nun einen Random Forest zur Klassifizierung!"
   ]
  },
  {
   "cell_type": "code",
   "execution_count": null,
   "id": "3bf2b328-c5a7-41a8-93ca-70a2582b95e8",
   "metadata": {},
   "outputs": [],
   "source": [
    "from sklearn.ensemble import RandomForestClassifier\n",
    "\n",
    "..."
   ]
  },
  {
   "cell_type": "markdown",
   "id": "7bf74af1-5418-49a6-9b38-cf8fd388c54d",
   "metadata": {},
   "source": [
    " Du kannst übrigens die `score` Funktion (https://scikit-learn.org/stable/modules/generated/sklearn.ensemble.RandomForestClassifier.html) verwenden um die Genauigkeit auf den Testdaten zu evaluieren. Wie gut ist die Klassifizierung?"
   ]
  },
  {
   "cell_type": "code",
   "execution_count": null,
   "id": "9a918517-1db6-4d8e-80e7-702954781b20",
   "metadata": {},
   "outputs": [],
   "source": [
    "..."
   ]
  },
  {
   "cell_type": "markdown",
   "id": "0646aa91-1d94-4ab0-9c80-49dffe4a41bc",
   "metadata": {},
   "source": [
    "### Aufgabe 4\n",
    "\n",
    "Wir möchten die Klassifizierung nun noch verbessern, indem wir das Spektogram berücksichtigen. Gehe wie folgt vor:\n",
    "1. Öffne die Audiodatei.\n",
    "2. Erstelle das Spektrogram.\n",
    "3. Errechne den durchschnittlichen Wert pro Frequenz. Wir vernachlässigen also die zeitliche Komponente und schauen nur, wie oft welche Frequenzen vorkommen. Du kannst dafür die `np.mean` Funktion verwenden und vielleicht brauchst du das `axis` Argument. Wenn du es richtig machst müsstest du so ein 129 Zahlen langes Array bekommen.\n",
    "4. 129 Werte sind noch ein bisschen viele Werte (was könnte passieren, wenn wir die alle verwenden?). Wir kürzen das Array noch, indem wir 3 benachbarte Werte zusammen berücksichtigen (`new = old.reshape(-1, 3).mean(axis=1)`). Nun müsste das Array noch 43 lang sein.\n",
    "5. Zuletzt normalisieren wir das Array, teile es dafür durch seine Summe. Dies stellt sicher, dass das Spektrum ähnlich aussieht egal ob die Geräsche laut oder leise waren."
   ]
  },
  {
   "cell_type": "code",
   "execution_count": null,
   "id": "74d4bd73-3b7e-4abe-900c-ef584a455eb0",
   "metadata": {},
   "outputs": [],
   "source": [
    "# Resultat wäre z.B. [[1, ..., 2], [3, ...,  4]], [1, 0]\n",
    "def extract_spectral_features(file_name, samplerate=16000):\n",
    "    ..."
   ]
  },
  {
   "cell_type": "markdown",
   "id": "d26397a5-f577-4c0a-9e32-15af7c16cbaf",
   "metadata": {},
   "source": [
    "Erstelle nun wieder ein Model mit `extract_spectral_features`. Wie ist die Performance?"
   ]
  },
  {
   "cell_type": "markdown",
   "id": "50e4c7a6-adc0-4694-9afb-901dbd74843f",
   "metadata": {},
   "source": [
    "### Aufgabe 5\n",
    "\n",
    "Untersuche nun die Dateien, welche unser Modell falsch klassifiziert. Am einfachsten du erstellst die Features für ein File mit `extract_spectral_features` und machst die Vorhersage, bis du Files findest für welche die Vorhersage falsch ist. Verwende die `predict` Funktion des Modells für die Vorhersage. Tipp: Bei den Hunden findest du schneller falsch klassifizierte."
   ]
  },
  {
   "cell_type": "code",
   "execution_count": null,
   "id": "751f8f9e-c222-40a2-96f4-edb2de4207c8",
   "metadata": {},
   "outputs": [],
   "source": [
    "..."
   ]
  },
  {
   "cell_type": "markdown",
   "id": "5766c1ea-e9f3-40d0-abf5-68cd033ef14a",
   "metadata": {},
   "source": [
    "Hast du eine Idee, warum gewisse Files falsch klassifiziert wurden? Hast du Ideen, wie man das Modell weiter verbessern könnte?"
   ]
  }
 ],
 "metadata": {
  "kernelspec": {
   "display_name": "Python 3 (ipykernel)",
   "language": "python",
   "name": "python3"
  },
  "language_info": {
   "codemirror_mode": {
    "name": "ipython",
    "version": 3
   },
   "file_extension": ".py",
   "mimetype": "text/x-python",
   "name": "python",
   "nbconvert_exporter": "python",
   "pygments_lexer": "ipython3",
   "version": "3.10.2"
  }
 },
 "nbformat": 4,
 "nbformat_minor": 5
}
