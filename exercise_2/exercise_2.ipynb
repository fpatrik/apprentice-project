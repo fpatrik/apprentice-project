{
 "cells": [
  {
   "cell_type": "markdown",
   "id": "0ec10b8e-2517-4eb6-ae3f-a4567878e1d0",
   "metadata": {},
   "source": [
    "# Exercise 2\n",
    "\n",
    "In dieser Übung kannst ein paar Auswertungen zum ersten Teil von Goethes Faust machen.\n",
    "Mit dieser Funktion kannst du den Text laden:"
   ]
  },
  {
   "cell_type": "code",
   "execution_count": null,
   "id": "b2d2b0d2-9858-4af7-b33f-04d918026cc9",
   "metadata": {},
   "outputs": [],
   "source": [
    "def load_text():\n",
    "    with open('faust.txt', 'r') as file:\n",
    "        return file.read()"
   ]
  },
  {
   "cell_type": "code",
   "execution_count": null,
   "id": "fbfbb3fd-48b6-4d4a-9ee7-359ed7e5588f",
   "metadata": {},
   "outputs": [],
   "source": [
    "faust = load_text()"
   ]
  },
  {
   "cell_type": "code",
   "execution_count": null,
   "id": "21de9e9e-e3e3-483a-9508-d2a909ab05ba",
   "metadata": {},
   "outputs": [],
   "source": [
    "faust[51728:51728+29]"
   ]
  },
  {
   "cell_type": "markdown",
   "id": "c1f32b99-8055-47b4-ae81-d71790d3a4e0",
   "metadata": {},
   "source": [
    "## Aufgabe 1.\n",
    "Wie viele Zeichen enthält der Text? Hier kannst du`len(text)` verwenden."
   ]
  },
  {
   "cell_type": "code",
   "execution_count": null,
   "id": "55b2a32b-da32-43d2-99ad-542680fc7a65",
   "metadata": {},
   "outputs": [],
   "source": [
    "..."
   ]
  },
  {
   "cell_type": "markdown",
   "id": "e980720e-8908-4629-bab1-211b951e13f6",
   "metadata": {},
   "source": [
    "## Aufgabe 2.\n",
    "Wieviele Wörter enthält der Text? Hier kannst du Googeln wie du den Text in eine Liste von Wörtern umwandeln kannst. Dann kannst du wieder `len()` brauchen"
   ]
  },
  {
   "cell_type": "code",
   "execution_count": null,
   "id": "9f75ca44-a65b-4c92-9e21-826a801e5370",
   "metadata": {},
   "outputs": [],
   "source": [
    "..."
   ]
  },
  {
   "cell_type": "markdown",
   "id": "e692c778-26b9-48c4-bb1e-6489725501f1",
   "metadata": {},
   "source": [
    "## Aufgabe 3.\n",
    "Welcher Buchstabe kommt am häufigsten im Text vor? Wie oft kommt er vor?"
   ]
  },
  {
   "cell_type": "code",
   "execution_count": null,
   "id": "d25158b3-0cd6-46af-b88f-aa370fffe65e",
   "metadata": {},
   "outputs": [],
   "source": [
    "..."
   ]
  },
  {
   "cell_type": "markdown",
   "id": "0cf39e33-99e6-4ecf-ae62-e11680e4f36e",
   "metadata": {},
   "source": [
    "## Augabe 4.\n",
    "Welches Wort kommt am häufigsten im Text vor? Wie oft kommt es vor?"
   ]
  },
  {
   "cell_type": "code",
   "execution_count": null,
   "id": "903a79ca-9882-4475-90eb-2a294940320c",
   "metadata": {},
   "outputs": [],
   "source": [
    "..."
   ]
  },
  {
   "cell_type": "markdown",
   "id": "5fdc65c1-11f1-4e6d-b678-0cdea582a27c",
   "metadata": {},
   "source": [
    "## Aufgabe 5.\n",
    "Wieviele verschiedene Wörter kommen im Text vor?"
   ]
  },
  {
   "cell_type": "code",
   "execution_count": null,
   "id": "4db14d26-b3a4-4aa1-ab08-e30d0b48d55a",
   "metadata": {},
   "outputs": [],
   "source": [
    "..."
   ]
  }
 ],
 "metadata": {
  "kernelspec": {
   "display_name": "Python 3 (ipykernel)",
   "language": "python",
   "name": "python3"
  },
  "language_info": {
   "codemirror_mode": {
    "name": "ipython",
    "version": 3
   },
   "file_extension": ".py",
   "mimetype": "text/x-python",
   "name": "python",
   "nbconvert_exporter": "python",
   "pygments_lexer": "ipython3",
   "version": "3.10.2"
  }
 },
 "nbformat": 4,
 "nbformat_minor": 5
}
