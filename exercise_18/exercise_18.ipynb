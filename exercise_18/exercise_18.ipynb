{
 "cells": [
  {
   "cell_type": "markdown",
   "id": "591c73a7-f447-43f0-8ff8-12a8e9dd8c63",
   "metadata": {},
   "source": [
    "# Exercise 18\n",
    "\n",
    "## Audio Daten\n",
    "\n",
    "Wir wollen uns nun Audio Dateien genauer anschauen. Ich mache dir gleich ein kleines Beispiel, wie wir Audio erstellen und abspielen können."
   ]
  },
  {
   "cell_type": "code",
   "execution_count": null,
   "id": "c7e73955-339a-4b1f-b9ff-95ae7cca50b2",
   "metadata": {},
   "outputs": [],
   "source": [
    "import os\n",
    "import numpy as np\n",
    "import scipy.io.wavfile as wavf\n",
    "\n",
    "# Diese Funktion erstellt einen Ton von Länge s Sekunden und mit Frequenz hz.\n",
    "# Die samplerate gibt an wie viele \"Werte\" wir pro Sekunde abspielen.\n",
    "# Die Werte sind einfach eine Liste von Zahlen!\n",
    "def create_sound_wave(hz, s, samplerate=44100):\n",
    "    return [np.sin(i * 2 * np.pi * hz / samplerate) for i in range(int(samplerate * s))]\n",
    "\n",
    "# Diese Funktion nimmt nun die Zahlenwerte und speichert sie als wav file.\n",
    "def save_sound(sound_list, samplerate=44100, file='out.wav'):\n",
    "    wavf.write(file, samplerate, np.array(sound_list, dtype=np.float32))\n",
    "\n",
    "# Dise Funktion spielt schliesslich das wav file ab.\n",
    "def play_sound(file='out.wav'):\n",
    "    os.system(f'aplay {file}')\n",
    "    \n",
    "\n",
    "sound_wave = create_sound_wave(2000, 1, samplerate=44100)\n",
    "save_sound(sound_wave)\n",
    "play_sound()"
   ]
  },
  {
   "cell_type": "markdown",
   "id": "e27ab056-8603-481a-b092-a17ed2abc5ff",
   "metadata": {},
   "source": [
    "### Aufgabe 1\n",
    "\n",
    "Versuche zuerst den Output von `create_sound_wave` besser zu verstehen. Erstelle einen Ton und verwende matplotlib um einen Plot dieses Tons zu erstellen. Allenfalls macht es Sinn einen sehr kurzen Ton zu erstellen."
   ]
  },
  {
   "cell_type": "code",
   "execution_count": null,
   "id": "8c9c65ea-f7a4-48f8-865b-86eca10ab05d",
   "metadata": {},
   "outputs": [],
   "source": [
    "import matplotlib.pyplot as plt\n",
    "..."
   ]
  },
  {
   "cell_type": "markdown",
   "id": "3a4efc49-7724-4bac-93d6-6f3c96523fd9",
   "metadata": {},
   "source": [
    "### Aufgabe 2\n",
    "\n",
    "Kannst du mit den obigen Funktionen ein kurzes \"Lied\" erstellen? Es könnte z.B. die Noten C, E, G sein. Die Frequenzen der Noten kannst du googlen."
   ]
  },
  {
   "cell_type": "code",
   "execution_count": null,
   "id": "a70bf04f-5fbe-4cab-8406-8d8d08ddd0b7",
   "metadata": {},
   "outputs": [],
   "source": [
    "..."
   ]
  },
  {
   "cell_type": "markdown",
   "id": "7f9e783b-6ec6-4402-a93a-4ed895e8cb25",
   "metadata": {},
   "source": [
    "### Aufgabe 3\n",
    "\n",
    "Hast du eine Idee, wie du einen Akkord spielen könntest? Der \"Tonwert\" sollte immer zwischen -1 und 1 liegen, falls zu etwas zusammenzählst musst du das berücksichtigen. :)"
   ]
  },
  {
   "cell_type": "code",
   "execution_count": null,
   "id": "627140fd-6f50-48d3-96d2-b8361af4415d",
   "metadata": {},
   "outputs": [],
   "source": [
    "..."
   ]
  },
  {
   "cell_type": "markdown",
   "id": "00fd2c83-c582-4d4d-8f97-ba78e1fc816f",
   "metadata": {},
   "source": [
    "### Aufgabe 4\n",
    "\n",
    "Wir haben bis jetzt Audio aus Frequenzen erstellt. Es ist aber auch möglich das umgekehrte zu tun, nämlich Frequenzen aus den Audiodaten zu extrahieren:"
   ]
  },
  {
   "cell_type": "code",
   "execution_count": null,
   "id": "ab4845f8-236b-495a-a7a7-39b95b7f8437",
   "metadata": {},
   "outputs": [],
   "source": [
    "from scipy import signal\n",
    "\n",
    "sound_wave = create_sound_wave(2000, 1, samplerate=44100) + create_sound_wave(5000, 1, samplerate=44100)\n",
    "                               \n",
    "f, t, Sxx = signal.spectrogram(np.array(sound_wave), 44100)\n",
    "plt.pcolormesh(t, f, Sxx, shading='gouraud')\n",
    "plt.ylabel('Frequency [Hz]')\n",
    "plt.xlabel('Time [sec]')\n",
    "plt.show()"
   ]
  },
  {
   "cell_type": "markdown",
   "id": "d06797b8-1122-4aeb-98c5-7a4ff324ade2",
   "metadata": {},
   "source": [
    "Verstehst du, was das Spektogram bedeutet? Kannst du das Spektogram auch noch für dein \"Lied\" und den Akkord erstellen?"
   ]
  },
  {
   "cell_type": "code",
   "execution_count": null,
   "id": "fdca5010-eb95-4bc9-b763-15ab866e16be",
   "metadata": {},
   "outputs": [],
   "source": [
    "..."
   ]
  }
 ],
 "metadata": {
  "kernelspec": {
   "display_name": "Python 3 (ipykernel)",
   "language": "python",
   "name": "python3"
  },
  "language_info": {
   "codemirror_mode": {
    "name": "ipython",
    "version": 3
   },
   "file_extension": ".py",
   "mimetype": "text/x-python",
   "name": "python",
   "nbconvert_exporter": "python",
   "pygments_lexer": "ipython3",
   "version": "3.10.2"
  }
 },
 "nbformat": 4,
 "nbformat_minor": 5
}
