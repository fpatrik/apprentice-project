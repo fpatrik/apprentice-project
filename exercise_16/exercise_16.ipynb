{
 "cells": [
  {
   "cell_type": "markdown",
   "id": "bcdc044e-970a-4705-a733-a25012f83608",
   "metadata": {},
   "source": [
    "# Exercise 16\n",
    "\n",
    "## Underfitting and Overfitting\n",
    "\n",
    "Wir betrachten nun noch einmal das Regressionproblem mit den Meerschweinchen. Wir haben nun 4 Datensätze:\n",
    "* `guineas_large_train.csv`, ein grosser Datensatz an Trainingsdaten\n",
    "* `guineas_large_test.csv`, die zugehörigen Testdaten\n",
    "* `guineas_small_train.csv`, ein kleiner Datensatz an Trainingsdaten\n",
    "* `guineas_small_test.csv`, die zugehörigen Testdaten\n",
    "\n",
    "Die Idee ist nun, dass wir das Modell mit dem `train` Datensatz trainieren und dann anhand des `test` Datensatz evaluieren.\n",
    "\n",
    "### Aufgabe 1\n",
    "\n",
    "Verwende den `RandomForestRegressor` um das Gewicht des Meerschweinchens anhand der anderen Attribute vorherzusagen. Trainiere das Modell mit dem `guineas_large_train.csv` Datensatz und bestimme dann den mittleren quadratischen Fehler mit `mean_squared_error`, sowohl auf den Trainingsdaten als auch auf den Testdaten (`guineas_large_test.csv`). Verwende falls nötig die Dokumentation von sklearn, dort sind auch Beipiele zu finden. Was fällt dir auf?"
   ]
  },
  {
   "cell_type": "code",
   "execution_count": null,
   "id": "21a3f25a-3346-4b4a-a276-36f4aeb19157",
   "metadata": {},
   "outputs": [],
   "source": [
    "import pandas as pd\n",
    "from sklearn.ensemble import RandomForestRegressor\n",
    "from sklearn.metrics import mean_squared_error\n",
    "\n",
    "training_data =  pd.read_csv('guineas_large_train.csv')\n",
    "test_data =  pd.read_csv('guineas_large_test.csv')\n",
    "\n",
    "..."
   ]
  },
  {
   "cell_type": "markdown",
   "id": "3467bd99-7707-486f-ac56-92fe8d085b74",
   "metadata": {},
   "source": [
    "### Aufgabe 2\n",
    "\n",
    "Verwende nun das `max_depth` Argument des `RandomForestRegressor`. Trainiere jeweils ein Modell für `max_depth=1, 2, 3..., 10`. Erstelle einen Plot des mittleren quadratischen Fehlers jeweils auf den Trainingsdaten und auf den Testsdaten. Das heisst auf der x-Achse ist `max_depth` und auf der y-Achse der Fehler. Kannst du den Plot und die Achsen beschriften und eine Legende machen? "
   ]
  },
  {
   "cell_type": "code",
   "execution_count": null,
   "id": "0440ca53-6ce9-47cf-8781-fad5d6926426",
   "metadata": {},
   "outputs": [],
   "source": [
    "import pandas as pd\n",
    "import matplotlib.pyplot as plt\n",
    "from sklearn.ensemble import RandomForestRegressor\n",
    "from sklearn.metrics import mean_squared_error\n",
    "\n",
    "..."
   ]
  },
  {
   "cell_type": "markdown",
   "id": "f4541485-7d22-46fd-acc8-216f43aeac3e",
   "metadata": {},
   "source": [
    "### Aufgabe 3\n",
    "\n",
    "Wiederhole nun Aufgabe 2, verwende aber die `small` Datensätze. Was stellst du fest?"
   ]
  },
  {
   "cell_type": "code",
   "execution_count": null,
   "id": "cb6ce0b4-c5e7-4f41-b857-c6655fd3f031",
   "metadata": {},
   "outputs": [],
   "source": [
    "import pandas as pd\n",
    "import matplotlib.pyplot as plt\n",
    "from sklearn.ensemble import RandomForestRegressor\n",
    "from sklearn.metrics import mean_squared_error\n",
    "\n",
    "..."
   ]
  }
 ],
 "metadata": {
  "kernelspec": {
   "display_name": "Python 3 (ipykernel)",
   "language": "python",
   "name": "python3"
  },
  "language_info": {
   "codemirror_mode": {
    "name": "ipython",
    "version": 3
   },
   "file_extension": ".py",
   "mimetype": "text/x-python",
   "name": "python",
   "nbconvert_exporter": "python",
   "pygments_lexer": "ipython3",
   "version": "3.10.2"
  }
 },
 "nbformat": 4,
 "nbformat_minor": 5
}
