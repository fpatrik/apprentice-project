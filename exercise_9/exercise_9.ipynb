{
 "cells": [
  {
   "cell_type": "markdown",
   "id": "ef76e9cd-648d-4904-8531-3777f22aaccc",
   "metadata": {},
   "source": [
    "# Exercise 9\n",
    "\n",
    "## Bayessche Statistik\n",
    "\n",
    "Ich möchte dir noch einen anderen Weg zeigen, wei man Statisik machen kann. Bis jetzt haben wir immer sogenannte Punktschätzungen gemacht. Wir haben uns also z.B. gefragt: wenn wir den Mittelwert einer Verteilung schätzen müssten, was wäre der beste Wert dafür?\n",
    "\n",
    "Bayessche Statistik funktioniert anders, wir betrachten hier alle möglichen Schätzungen und beurteilen wie gut sie sind. Wenn wir also z.B. normalverteilte Zufallszahlen 4 und 6 haben, dann ist 5 die beste Schätzung. 4 ist noch eine mittelgute Schätzung und 20 eine sehr schlechte Schätzung. Was wir am Ende bekommen ist eine Wahrscheinlichkeitsverteilung, nämlich wie wahrscheinlich es ist, dass eine bestimmte Schätzung richtig ist. Je mehr Daten wir haben, desto besser können wir beurteilen welche Werte z.B. für den Mittelwert wahrscheinlich ist. Verstehst du die Idee?"
   ]
  },
  {
   "cell_type": "code",
   "execution_count": null,
   "id": "481aeddf-a4f8-445c-8df9-7ee06c85a2f7",
   "metadata": {},
   "outputs": [],
   "source": [
    "import scipy\n",
    "import numpy as np\n",
    "import matplotlib.pyplot as plt\n",
    "\n",
    "def normal_posterior(l):\n",
    "    def unnormalized_density(x):\n",
    "        v = 1\n",
    "        for entry in l:\n",
    "            v *= scipy.stats.norm.pdf(entry, loc=x, scale=5)\n",
    "        return v\n",
    "    \n",
    "    x = np.linspace(-10, 10, num=200)\n",
    "    plt.title(('A-posteriori' if len(l) > 0 else 'A-priori') + ' Verteilung des Mittelwertes')\n",
    "    plt.plot(x, [unnormalized_density(v) for v in x])\n",
    "    plt.show()\n",
    "    "
   ]
  },
  {
   "cell_type": "markdown",
   "id": "a0180f31-b186-476d-a05b-412698f8a928",
   "metadata": {},
   "source": [
    "Ich mache ein Beispiel. Nehmen wir an wir haben noch keine Daten, dann wissen wir noch nichts über den Mittelwert und die Verteilung könnte so aussehen:"
   ]
  },
  {
   "cell_type": "code",
   "execution_count": null,
   "id": "5c780139-c3f6-42ff-bf33-9d1692f72226",
   "metadata": {},
   "outputs": [],
   "source": [
    "normal_posterior([])"
   ]
  },
  {
   "cell_type": "markdown",
   "id": "ca361d77-2490-4b00-80a6-dff9d30d3a18",
   "metadata": {},
   "source": [
    "Wie du siehst sind einfach alle Werte gleich wahrscheinlich, denn wir wissen ja noch nichts! Wenn wir aber bereits eine Ahnung hätten, könnten wir das in dieser Verteilung berücksichtigen, man nennt das A-priori Verteilung. Nun bekommen wir einen ersten Wert, sagen wir 5:"
   ]
  },
  {
   "cell_type": "code",
   "execution_count": null,
   "id": "ceda21d7-92df-4608-8bf6-5d3263ed129c",
   "metadata": {},
   "outputs": [],
   "source": [
    "normal_posterior([5])"
   ]
  },
  {
   "cell_type": "markdown",
   "id": "e860350e-beaf-414c-940c-4a9d1129eb2f",
   "metadata": {},
   "source": [
    "Wie du wahrscheinlich erwarten würdest, ist nun 5 der wahrscheinlichste Wert für den Mittelwert. Aber auch Werte über 10 sind denkbar. Nun kommt ein zweiter Zufallswert, -2:"
   ]
  },
  {
   "cell_type": "code",
   "execution_count": null,
   "id": "23c84c3f-8e67-4cae-a086-0588f19af293",
   "metadata": {},
   "outputs": [],
   "source": [
    "normal_posterior([5, -2])"
   ]
  },
  {
   "cell_type": "markdown",
   "id": "6f708252-c19d-4833-9e10-2c6e8a5dc30a",
   "metadata": {},
   "source": [
    "Wie du siehst in ein Wert in der Mitte zwischen -2 und 5 am wahrscheinlichsten. Die Verteilung ist auch \"schmaler\" geworden, da wir bereits mehr Daten haben und somit mehr über den Mittelwert wissen. Ich füge noch ein paar weitere Werte hinzu:"
   ]
  },
  {
   "cell_type": "code",
   "execution_count": null,
   "id": "74114df2-a52a-4f30-9d7c-8d1eb4a96677",
   "metadata": {},
   "outputs": [],
   "source": [
    "normal_posterior([5, -2, 1, -0.5, -3, 0])"
   ]
  },
  {
   "cell_type": "markdown",
   "id": "330e05ee-081a-4d5a-8278-29858b3e3b9d",
   "metadata": {},
   "source": [
    "Nun ist die Verteilung noch schmaler geworden und wir können schliessen, dass der Mittelwert mit hoher Wahrscheinlichkeit um 0 liegen muss."
   ]
  },
  {
   "cell_type": "markdown",
   "id": "fb389ff0-fc18-44ff-8a50-d858e1178d33",
   "metadata": {},
   "source": [
    "### Aufgabe 1\n",
    "\n",
    "Wir betrachten nun das Problem eins Münzwurf. Eine faire Münze zeigt mit 50% Wahrscheinlichkeit Kopf und mit 50% Zahl. Wir könnten uns aber auch eine Münze vorstellen die z.B. 60% Kopf und 40% Zahl zeigt. Schreibe zuerst eine Funktion, welche Münzwürfe simuliert:"
   ]
  },
  {
   "cell_type": "code",
   "execution_count": null,
   "id": "9f0be224-f081-4d76-944f-03b6e3924eaf",
   "metadata": {},
   "outputs": [],
   "source": [
    "# p gibt die Wahrscheinlichkeit von \"Zahl\" an, size die Anzahl Münzwürfe\n",
    "# Das Resultat sollte z.B. so aussehen: ['kopf', 'kopf', 'zahl', ...]\n",
    "def coin_flips(p=0.5, size=100):\n",
    "    ..."
   ]
  },
  {
   "cell_type": "markdown",
   "id": "1301e159-eb01-4a8d-85be-d02b0180a7cf",
   "metadata": {},
   "source": [
    "### Aufgabe 2\n",
    "\n",
    "Nun möchten wir eine Funktion schreiben, welche bestimmt wie wahrscheinlich ein bestimmtes `p` ist für eine Liste mit Münzwürfen. Das funktioniert so:\n",
    "1. Setzte einen Wert gleich 1.\n",
    "2. Mache nun eine Schleife über alle Münzwürfe.\n",
    "3. Wenn der Münzwurf Kopf ist, multipliziere den Wert mit `p`. Zeigt die Münze Zahl, dann mit `(1 - p)`.\n",
    "4. Gib den Wert zurück (mit `return`).\n",
    "    "
   ]
  },
  {
   "cell_type": "code",
   "execution_count": null,
   "id": "e8df2fc4-3eea-44fc-8426-ff85a70d76b8",
   "metadata": {},
   "outputs": [],
   "source": [
    "# l ist eine solche Liste: ['kopf', 'kopf', 'zahl', ...]\n",
    "def likelihood(p, l):\n",
    "    ..."
   ]
  },
  {
   "cell_type": "markdown",
   "id": "b6a13e7b-33d6-4ab9-8df1-33488c853744",
   "metadata": {},
   "source": [
    "Verstehst du etwa was hier passiert?\n",
    "\n",
    "1. Warum multiplizieren wir?\n",
    "\n",
    "Wenn man möchte das zwei Dinge der Fall sind muss man deren Wahrscheinlichkeiten multiplizieren. Wenn du wissen möchtest wie wahrscheinlich es ist bei einer \"normalen\" Münze zweimal Zahl am Stück zu werfen, würdest du `0.5 * 0.5 = 0.25` rechnen. Wir wollen hier also, dass `p` wahrscheinlich ist für den ersten Münzwurf **und** den zweiten Münzwurf **und** den dritten... Übrigens ist das nur der Fall, wenn die Dinge unabhängig sind voneinander:\n",
    "- Wie wahrscheinlich ist es, dass es Nacht ist? ...\n",
    "- Wie wahrscheinlich ist es, dass es Sterne am Himmel hat (keine Wolken :))? ...\n",
    "- Wie wahrscheinlich ist es, dass es Nacht ist und Sterne am Himmel hat? ...\n",
    "\n",
    "2. Was soll das mit `p` und `1-p`?\n",
    "\n",
    "Wenn wir Kopf werfen, dann spricht das dafür, dass `p` eher hoch ist (denn dann gibt es häufiger Kopf):\n",
    "- Angenommen wir vermuten `p=0` und wir bekommen Kopf, dann multiplizieren wir auch unseren Wert mit 0. Das bedeutet die Wahrscheinlichkeit das `p=0` ist, ist 0%, denn eine solche Münze kann gar nicht Kopf zeigen!\n",
    "- Angenommen wir vermuten `p=0.1` und wir bekommen Kopf, dann multiplizieren wir auch unseren Wert mit 0.1. Der Wert wird dadurch viel kleiner und wir sagen damit: `p=0.1` ist eher unwahrscheinlich.\n",
    "- Angenommen wir vermuten `p=1` und wir bekommen Kopf, dann multiplizieren wir auch unseren Wert mit 1. Der Wert bleibt dadurch gross und wir sagen damit, dass `p=1` ein wahrscheinlicher Wert ist solange, wir nur Kopf beobachten.\n",
    "\n",
    "Genau das gleiche können wir uns auch für `1-p` und Zahl überlegen."
   ]
  },
  {
   "cell_type": "markdown",
   "id": "1f7a665a-e667-4c6e-a6f6-950baedf4250",
   "metadata": {},
   "source": [
    "### Aufgabe 3\n",
    "\n",
    "Teste nun deine `likelihood` Funktion. Ich habe dir eine Funktion gemacht, welche die Funktion verwendet um die Wahrscheinlichkeit verschiedener `p` zu visualisieren. Macht der Output Sinn für dich?"
   ]
  },
  {
   "cell_type": "code",
   "execution_count": null,
   "id": "3c3a8171-520c-41db-9c82-9d908b84815f",
   "metadata": {},
   "outputs": [],
   "source": [
    "def coin_posterior(l):\n",
    "    x = np.linspace(0, 1, num=100)\n",
    "    plt.title('A-posteriori Verteilung von p')\n",
    "    plt.plot(x, [likelihood(p, l) for p in x])\n",
    "    plt.show()"
   ]
  },
  {
   "cell_type": "code",
   "execution_count": null,
   "id": "be0ce81b-351f-4e77-8dda-06c8db4108bb",
   "metadata": {},
   "outputs": [],
   "source": [
    "coin_posterior(['zahl'])"
   ]
  },
  {
   "cell_type": "markdown",
   "id": "7e5d7197-b4fa-407b-8865-1474d02d880d",
   "metadata": {},
   "source": [
    "### Aufgabe 4\n",
    "\n",
    "Verwende nun `coin_flips` Funktion um Münzwürfe mit `p=0.7` zu machen. Wie viele Münzwürfe braucht es etwa, bis du dir sehr sicher bist, dass die Münze nicht fair ist? Du kannst einfach visuell Anhand des Plots von `coin_posterior` beurteilen, aber man könnte es natürlich auch ausrechnen."
   ]
  },
  {
   "cell_type": "code",
   "execution_count": null,
   "id": "9b534c37-2d33-4b66-b4ad-7e7b3cf68910",
   "metadata": {},
   "outputs": [],
   "source": [
    "..."
   ]
  }
 ],
 "metadata": {
  "kernelspec": {
   "display_name": "Python 3 (ipykernel)",
   "language": "python",
   "name": "python3"
  },
  "language_info": {
   "codemirror_mode": {
    "name": "ipython",
    "version": 3
   },
   "file_extension": ".py",
   "mimetype": "text/x-python",
   "name": "python",
   "nbconvert_exporter": "python",
   "pygments_lexer": "ipython3",
   "version": "3.10.2"
  }
 },
 "nbformat": 4,
 "nbformat_minor": 5
}
