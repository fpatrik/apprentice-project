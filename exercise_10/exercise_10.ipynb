{
 "cells": [
  {
   "cell_type": "markdown",
   "id": "2ba01601-d5b3-4ef2-b215-cee851356e2f",
   "metadata": {},
   "source": [
    "# Exercise 10\n",
    "\n",
    "## Gradient Descent\n",
    "\n",
    "Wir möchten nun folgendes Problem untersuchen: wir haben eine Funktion `f` mit einem Argument `x`. Für welchen Wert von `x` nimmt `f` den kleinsten Wert an? Diese Problem kommt in sehr vielen Anwendungen vor, z.B. bei Optimierungsproblemen. `f` könnte z.B. so aussehen:"
   ]
  },
  {
   "cell_type": "code",
   "execution_count": null,
   "id": "3c56fcf0-2735-4e56-97e0-99d73ed6d3fd",
   "metadata": {},
   "outputs": [],
   "source": [
    "import numpy as np\n",
    "import matplotlib.pyplot as plt\n",
    "\n",
    "def f(x):\n",
    "    return x * x\n",
    "\n",
    "def plot_f():\n",
    "    x = np.linspace(-10, 10, num=200)\n",
    "    plt.title('Die Funktion f')\n",
    "    plt.plot(x, [f(v) for v in x])\n",
    "    plt.show()\n",
    "    \n",
    "plot_f()"
   ]
  },
  {
   "cell_type": "markdown",
   "id": "07e7439f-85f0-41f3-86ff-bd29036d6ed7",
   "metadata": {},
   "source": [
    "Vielleicht siehst du schon an welcher Stelle `f` den kleinsten Wert hat :). Aber `f` könnte auch sehr kompliziert sein und dann wäre dies schwieriger zu sehen.\n",
    "\n",
    "### Aufgabe 1\n",
    "\n",
    "Schreibe nun eine Funktion `minimize` welche das Minimum von `f` findet. Hast du eine Idee, wie man es machen könnte? Es gibt viele verschiedene Lösungen!"
   ]
  },
  {
   "cell_type": "code",
   "execution_count": null,
   "id": "d3d2854d-3f70-49ce-9c73-4f305bac933b",
   "metadata": {},
   "outputs": [],
   "source": [
    "# f ist die zu minimierende Funktion. start_x ist unser Startpunkt.\n",
    "# Wenn die Funktion funktioniert müsste das Resultat also ungefähr 0 sein für verschiedene x_start.\n",
    "# Hier sind zwei Ideen:\n",
    "# 1. Verändere x in eine/beide Richtungen und schaue ob f(x) kleiner wird.\n",
    "# 2. Verändere x zufällig, und wenn f(x) kleiner wird, probiere von dort weiter.\n",
    "# Du musst selber entscheiden, wann du \"nahe genug\" am Minimum bist.\n",
    "# Das könnte zum Beispiel dann der Fall sein, wenn kein weiterer Schritt eine Verbesserung bringt.\n",
    "def minimize(f, start_x):\n",
    "    ...\n",
    "    return x_min"
   ]
  },
  {
   "cell_type": "markdown",
   "id": "8b860225-fb32-4de0-adf9-d6bf7178aaa4",
   "metadata": {},
   "source": [
    "### Aufgabe 2\n",
    "\n",
    "Hier ist eine andere Funktion `f2`. Was passiert wenn du `minimize` damit verwendest? Probiere verschiedene Werte für `start_x` aus."
   ]
  },
  {
   "cell_type": "code",
   "execution_count": null,
   "id": "dd98b5fa-3057-4a4a-bd00-f927e68acc7d",
   "metadata": {},
   "outputs": [],
   "source": [
    "def f2(x):\n",
    "    return x - x ** 2 + 0.01 * x ** 4\n",
    "\n",
    "def plot_f2():\n",
    "    x = np.linspace(-10, 10, num=200)\n",
    "    plt.title('Die Funktion f2')\n",
    "    plt.plot(x, [f2(v) for v in x])\n",
    "    plt.show()\n",
    "    \n",
    "plot_f2()"
   ]
  },
  {
   "cell_type": "code",
   "execution_count": null,
   "id": "77dd08a0-9a42-43ad-866b-ee9ab011682b",
   "metadata": {},
   "outputs": [],
   "source": [
    "..."
   ]
  },
  {
   "cell_type": "markdown",
   "id": "9268fca6-a8f9-4c01-b19b-f789946e4d59",
   "metadata": {},
   "source": [
    "### Aufgabe 3\n",
    "\n",
    "Wir möchten nun eine Version von Gradient Descent umsetzen. Die Idee ist hier: wir schauen wie Steil die Funktion ist. Ist die Funktion noch sehr steil, dann machen wir grosse Schritte Richtung Minimum. Ist die Funktion schon sehr flach, dann kleine Schritte. Die Umsetzung funktioniert so:\n",
    "\n",
    "0. Setzte `x = x_start`\n",
    "1. Berechne `step = f(x) - f(x + delta)`. Verstehst du was `step` etwa bedeutet? Wann ist `step` grösser/kleiner 0? Wann ist `step` gross/klein? Delta ist einfach eine sehr kleine Zahl.\n",
    "2. Falls `abs(step)` kleiner als `tol` ist, sind wir fertig (`return x`). `abs` macht eine Zahl postiv falls sie es noch nicht ist, also `abs(-1) = 1`.\n",
    "3. Berechne das neue `x = x + step * step_size`\n",
    "4. Wiederhole das ganze, bis Schritt 2 eintritt"
   ]
  },
  {
   "cell_type": "code",
   "execution_count": null,
   "id": "3814baa7-deaa-4856-a612-4fec5ed44a01",
   "metadata": {},
   "outputs": [],
   "source": [
    "def gradient_descent(f, x_start, delta = 0.01, step_size=0.01, tol=0.0001):\n",
    "    ..."
   ]
  },
  {
   "cell_type": "code",
   "execution_count": null,
   "id": "a10968d4-565f-4281-a686-442215238053",
   "metadata": {},
   "outputs": [],
   "source": [
    "gradient_descent(f, -4, delta = 0.01, step_size=0.01, tol=0.0001)"
   ]
  },
  {
   "cell_type": "markdown",
   "id": "70fb8a5a-5bb0-4b34-94a7-468d333e1e6e",
   "metadata": {},
   "source": [
    "Was passiert wenn du `gradient_descent` mit sehr kleinem oder sehr grossem `step_size` verwendest?"
   ]
  },
  {
   "cell_type": "code",
   "execution_count": null,
   "id": "3e7a7e9c-dfc4-48ed-8d91-f8401fdd6702",
   "metadata": {},
   "outputs": [],
   "source": [
    "..."
   ]
  },
  {
   "cell_type": "markdown",
   "id": "434cc1ec-ff01-4269-91f0-eae1797b1a74",
   "metadata": {},
   "source": [
    "### Aufgabe 4\n",
    "\n",
    "Nun haben wir eine Funktion `f3` mit zwei Inputs `x` und `y`:"
   ]
  },
  {
   "cell_type": "code",
   "execution_count": null,
   "id": "ff60802b-f4c0-4f06-9666-ee381b00532e",
   "metadata": {},
   "outputs": [],
   "source": [
    "def f3(x, y):\n",
    "    return x ** 2 + 0.5 * y ** 2\n",
    "\n",
    "def plot_f3():\n",
    "    X = np.arange(-5, 5, 0.25)\n",
    "    Y = np.arange(-5, 5, 0.25)\n",
    "    X, Y = np.meshgrid(X, Y)\n",
    "    Z = np.array([f3(X[i], Y[i]) for i in range(len(X))])\n",
    "    \n",
    "    fig, ax = plt.subplots(subplot_kw={\"projection\": \"3d\"})\n",
    "    ax.plot_surface(X, Y, Z)\n",
    "    plt.show()\n",
    "plot_f3()"
   ]
  },
  {
   "cell_type": "markdown",
   "id": "7ae1cd7e-9e92-47da-852a-2ede1e51f344",
   "metadata": {},
   "source": [
    "Kannst du eine Funktion `gradient_descent_2d` schreiben, welche für zwei Argumente funktioniert? Der Trick ist: mache jeweils immer einen Schritt in `x` und dann in `y` Richtung."
   ]
  },
  {
   "cell_type": "code",
   "execution_count": null,
   "id": "cb3be013-9958-43b8-8ca3-bd5aa2764360",
   "metadata": {},
   "outputs": [],
   "source": [
    "def gradient_descent_2d(f, x_start, y_start, delta = 0.01, step_size=0.01, tol=0.0001):\n",
    "    ..."
   ]
  },
  {
   "cell_type": "code",
   "execution_count": null,
   "id": "7c08122b-f715-47e9-a8ab-b9a4281288a8",
   "metadata": {},
   "outputs": [],
   "source": [
    "..."
   ]
  }
 ],
 "metadata": {
  "kernelspec": {
   "display_name": "Python 3 (ipykernel)",
   "language": "python",
   "name": "python3"
  },
  "language_info": {
   "codemirror_mode": {
    "name": "ipython",
    "version": 3
   },
   "file_extension": ".py",
   "mimetype": "text/x-python",
   "name": "python",
   "nbconvert_exporter": "python",
   "pygments_lexer": "ipython3",
   "version": "3.10.2"
  }
 },
 "nbformat": 4,
 "nbformat_minor": 5
}
