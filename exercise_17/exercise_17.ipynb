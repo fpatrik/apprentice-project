{
 "cells": [
  {
   "cell_type": "markdown",
   "id": "1adf4929-c611-4ace-8d28-3bda651bf677",
   "metadata": {},
   "source": [
    "# Exercise 17\n",
    "\n",
    "## Do It Yourself\n",
    "\n",
    "### Aufgabe 1\n",
    "\n",
    "Unter `https://archive.ics.uci.edu/ml/datasets/Auto+MPG` findest du einen Datensatz zu einem Regressionsproblem. Mache folgendes:\n",
    "    \n",
    "1. Lies die Beschreibung. Worum geht es?\n",
    "2. Lade die Daten herunter. Kannst du sie öffnen?\n",
    "3. Kannst du Visualisierungen erstellen um zu schauen, wie die Daten verteilt sind?\n",
    "4. Kannst du mit Visualisierungen die Zusammenhänge in den Daten zeigen?\n",
    "4. Erstelle ein Regressionsmodell. Du kannst selber aussuchen was du verwenden möchtest (also z.B. lineare Regression, Random Forest etc.)."
   ]
  },
  {
   "cell_type": "code",
   "execution_count": null,
   "id": "0fd61376-fe72-42a6-9ebe-c4ed376a1482",
   "metadata": {},
   "outputs": [],
   "source": [
    "..."
   ]
  }
 ],
 "metadata": {
  "kernelspec": {
   "display_name": "Python 3 (ipykernel)",
   "language": "python",
   "name": "python3"
  },
  "language_info": {
   "codemirror_mode": {
    "name": "ipython",
    "version": 3
   },
   "file_extension": ".py",
   "mimetype": "text/x-python",
   "name": "python",
   "nbconvert_exporter": "python",
   "pygments_lexer": "ipython3",
   "version": "3.10.2"
  }
 },
 "nbformat": 4,
 "nbformat_minor": 5
}
