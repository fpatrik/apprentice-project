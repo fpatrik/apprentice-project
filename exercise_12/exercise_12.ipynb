{
 "cells": [
  {
   "cell_type": "markdown",
   "id": "fa0c1f6f-467a-4eca-acb1-ef8e01ff3f74",
   "metadata": {},
   "source": [
    "# Exercise 12\n",
    "## Wahrheitstabellen\n",
    "\n",
    "Wir möchten uns ein paar Grundregeln der Logik anschauen. Mithilfe von Wahrheitstabellen können wir überprüfen, ob zwei logische Ausdrücke identisch sind. Ich mache dir ein Beispiel:"
   ]
  },
  {
   "cell_type": "code",
   "execution_count": null,
   "id": "1f48cb1b-b979-4151-82a8-26a36923779d",
   "metadata": {},
   "outputs": [],
   "source": [
    "import pandas as pd\n",
    "truth_table = pd.DataFrame()\n",
    "truth_table['a'] = [True, False]\n",
    "\n",
    "truth_table['not a'] = truth_table.apply(lambda row: not row['a'], axis=1)\n",
    "truth_table['not not a'] = truth_table.apply(lambda row: not not row['a'], axis=1)\n",
    "\n",
    "print(truth_table)"
   ]
  },
  {
   "cell_type": "markdown",
   "id": "8578de51-487f-45c1-9deb-75d47169b3b8",
   "metadata": {},
   "source": [
    "Wir erstellen zuerst eine Spalte `a` mit Werten `True` und `False`. Dann erstellen wir zwei weitere Spalten mit Werten `not a` und `not not a`. Wie du siehst nimmt `a` und `not not a` in jeder Zeile den gleichen Wert an. Daher sind sie identische Ausdrücke! Wir gehen natürlich davon aus, dass die Leute von Python das richtig implementiert haben :). Man kann auch Wahrheitstabellen mit zwei Variablen machen:"
   ]
  },
  {
   "cell_type": "code",
   "execution_count": null,
   "id": "295d0ee7-19a7-493f-8c23-af65d8dfbcf0",
   "metadata": {},
   "outputs": [],
   "source": [
    "truth_table = pd.DataFrame()\n",
    "truth_table['a'] = [True, True, False, False]\n",
    "truth_table['b'] = [True, False, True, False]\n",
    "\n",
    "truth_table['True'] = True\n",
    "truth_table['a or b or (not a and not b)'] = truth_table.apply(lambda row: row['a'] or row['b'] or (not row['a'] or not row['b']), axis=1)\n",
    "\n",
    "print(truth_table)"
   ]
  },
  {
   "cell_type": "markdown",
   "id": "28f1e3bb-dad9-4db1-aabc-36986e7743d2",
   "metadata": {},
   "source": [
    "Wir erstellen zuerst zwei Spalten `a` und `b` mit allen Kombinationen von `True` und `False`. Dann betrachten wir zwei Ausdrücke, nämlich `True` und `a or b or (not a and not b)`. Wie du siehst sind sie immer identisch! Wir haben also gezeigt, dass immer entweder `a` oder `b` wahr ist oder keine der beiden :)."
   ]
  },
  {
   "cell_type": "markdown",
   "id": "58a369fa-f489-496e-8f86-6b36cfbc25de",
   "metadata": {},
   "source": [
    "### Aufgabe 1\n",
    "\n",
    "Wir hatten in der letzten Übung folgende Ausdrücke:\n",
    "* x > t or y > t\n",
    "* x <= t or y <= t\n",
    "\n",
    "Ist der der erste Ausdruck das Gegenteil des zweiten Ausdrucks? Also ist der erste Ausdruck genau dann wahr, wenn der zweite Ausdruck falsch ist? Finde es mit einer Wahrheitstabelle heraus! Ersetze dafür zuerst `x > t` und `y > t` mit Variablen `a` und `b` und überlege dir wie du `x <= t` und `y <= t` ausdrücken kannst. Erstelle dann die Wahrheitstablle und überprüfe die Aussage."
   ]
  },
  {
   "cell_type": "code",
   "execution_count": null,
   "id": "7bd770fc-b184-402a-a80f-bef66cd68232",
   "metadata": {},
   "outputs": [],
   "source": [
    "..."
   ]
  },
  {
   "cell_type": "markdown",
   "id": "d8571f2a-7ad2-491b-a1bd-61194396f6cf",
   "metadata": {},
   "source": [
    "### Aufgabe 2\n",
    "\n",
    "Überprüfe, ob folgende Ausdrücke identisch sind. Vielleicht kannst du es dir zuerst ohne Wahrheitstabelle überlegen und erst dann die Wahrheitstabelle erstellen.\n",
    "    \n",
    "* `a or b or c` and `(a and b) or (b and c) or (b and c) or (a and b and c)`\n",
    "* `(a or not b) and (b or not c)` and `(a and b) or (not b and not c)` "
   ]
  },
  {
   "cell_type": "code",
   "execution_count": null,
   "id": "31b19db6-9647-456e-a7c8-51075d3b2869",
   "metadata": {},
   "outputs": [],
   "source": [
    "..."
   ]
  }
 ],
 "metadata": {
  "kernelspec": {
   "display_name": "Python 3 (ipykernel)",
   "language": "python",
   "name": "python3"
  },
  "language_info": {
   "codemirror_mode": {
    "name": "ipython",
    "version": 3
   },
   "file_extension": ".py",
   "mimetype": "text/x-python",
   "name": "python",
   "nbconvert_exporter": "python",
   "pygments_lexer": "ipython3",
   "version": "3.10.2"
  }
 },
 "nbformat": 4,
 "nbformat_minor": 5
}
