{
 "cells": [
  {
   "cell_type": "markdown",
   "id": "42e9176c-7355-43fc-ba39-0b609cb36239",
   "metadata": {},
   "source": [
    "# Exercise 11\n",
    "## Lineare Regression\n",
    "\n",
    "Wir möchten nun mit Machine Learning beginnen. Ich habe dazu einen (künstlichen) Datensatz erstellt. Der Datensatz enthält Meerschweinchen mit drei Attributen:\n",
    "\n",
    "1. Name\n",
    "2. Grösse in cm\n",
    "3. Gewicht in g\n",
    "\n",
    "Wir laden zuerst den Datensatz mit pandas:"
   ]
  },
  {
   "cell_type": "code",
   "execution_count": null,
   "id": "00b1fe14-3d97-4c49-a3d2-edc51a78aff0",
   "metadata": {},
   "outputs": [],
   "source": [
    "import pandas as pd\n",
    "dataset = pd.read_csv('guineas.csv')\n",
    "print(dataset)"
   ]
  },
  {
   "cell_type": "markdown",
   "id": "a8a0c3b6-9ea6-4320-8a95-5387c9e19534",
   "metadata": {},
   "source": [
    "Wie du siehst haben wir eine Tablelle mit 100 Einträgen mit unseren drei Attributen. Wir können uns auch ein paar Eigenschaften des Datensatzes anschauen:"
   ]
  },
  {
   "cell_type": "code",
   "execution_count": null,
   "id": "3701c5b7-2ec2-4b18-8526-f87b2839e5fd",
   "metadata": {},
   "outputs": [],
   "source": [
    "dataset.describe()"
   ]
  },
  {
   "cell_type": "markdown",
   "id": "4fc1c075-235c-41d2-8317-07e07865b936",
   "metadata": {},
   "source": [
    "Wie schwer sind die Meerschweinchen im Durchschnitt. Wie gross ist das grösste Meerschweinchen?\n",
    "Nun können wir die Daten visualisieren um zu schauen, ob es einen Zusammenhang zwischen Grösse und Gewicht gibt:"
   ]
  },
  {
   "cell_type": "code",
   "execution_count": null,
   "id": "f223b316-ef6c-4c84-aeac-a7c061701abe",
   "metadata": {},
   "outputs": [],
   "source": [
    "import matplotlib.pyplot as plt\n",
    "\n",
    "plt.scatter(dataset['size (cm)'], dataset['weight (g)'])\n",
    "plt.title('Das Gewicht von Meerschweinchen in Abhängigkeit der Grösse')\n",
    "plt.xlabel('Grösse (cm)')\n",
    "plt.ylabel('Gewicht (g)')\n",
    "plt.show()"
   ]
  },
  {
   "cell_type": "markdown",
   "id": "e6fbb900-87f2-4e24-954f-41bfd41a77f0",
   "metadata": {},
   "source": [
    "Siehst du eine Abhängigkeit? Wir können nun eine lineare Regression machen um die Abhängigkeit zu Untersuchen:"
   ]
  },
  {
   "cell_type": "code",
   "execution_count": null,
   "id": "205440d6-d7bc-42da-b055-3cd8821a13e4",
   "metadata": {},
   "outputs": [],
   "source": [
    "import scipy\n",
    "import numpy as np\n",
    "\n",
    "def linear_regression_plot(\n",
    "    dataset=dataset,\n",
    "    xlabel = 'size (cm)',\n",
    "    ylabel = 'weight (g)',\n",
    "    title = 'Das Gewicht von Meerschweinchen in Abhängigkeit der Grösse'\n",
    "):\n",
    "    model = scipy.stats.linregress(dataset[xlabel], dataset[ylabel])\n",
    "\n",
    "    x = np.arange(dataset[xlabel].min(), dataset[xlabel].max())\n",
    "    y = model.intercept + model.slope * x\n",
    "    plt.plot(x, y, c='r')\n",
    "\n",
    "\n",
    "    plt.scatter(dataset[xlabel], dataset[ylabel])\n",
    "    plt.title(title)\n",
    "    plt.xlabel(xlabel)\n",
    "    plt.ylabel(ylabel)\n",
    "    plt.show()\n",
    "\n",
    "    print(f'The intercept is: {model.intercept}')\n",
    "    print(f'The slope is: {model.slope}')\n",
    "    \n",
    "linear_regression_plot()"
   ]
  },
  {
   "cell_type": "markdown",
   "id": "c396d2ea-a7c4-4cc8-8d7f-70423f76c98b",
   "metadata": {},
   "source": [
    "Wie du siehst hat die Lineare Regression eine \"möglichst gute\" Linie durch den Datensatz gelegt. Wir können nun auch Vorhersagen über das Gewicht machen, wenn wir die Grösse kennen:"
   ]
  },
  {
   "cell_type": "code",
   "execution_count": null,
   "id": "2bb3ceb9-a0c4-4fdf-a786-cc3400b9cc72",
   "metadata": {},
   "outputs": [],
   "source": [
    "size = 20\n",
    "prediction = model.intercept + model.slope * size\n",
    "print(prediction)"
   ]
  },
  {
   "cell_type": "markdown",
   "id": "78b96030-84b2-40e2-a6a0-70fbcdecb45a",
   "metadata": {},
   "source": [
    "### Aufgabe 1\n",
    "\n",
    "Wir möchten nun besser verstehen, was die lineare Regression genau gemacht hat. Die optimale Regressionslinie ist so gewählt, dass die Summe der quadratischen Abstände zu den Datenpunkten möglichst klein ist. Man misst also den (vertikalen) Abstand der Punkte zur roten Linie und multipliziert den Abstand mit sich selber. Dann zählt man alle diese Fehler zusammen. Erstelle eine Funktion `squared_error(intercept, slope)`, welche folgendes macht:\n",
    "\n",
    "1. Erstelle `prediction = intercept + slope * dataset['size (cm)']`\n",
    "2. Bestimme den Abstand von `prediction` zum tatsächlichen Wert `dataset['weight (g)']` und multipliziere diesen mit sich selbst.\n",
    "3. Bestimme nun die Summe all dieser quadratischen Abstände, du kannst dafür z.B. die `sum` Funktion verwenden."
   ]
  },
  {
   "cell_type": "code",
   "execution_count": null,
   "id": "5cb15821-0b48-46c6-a577-e88c7ddc2d27",
   "metadata": {},
   "outputs": [],
   "source": [
    "def squared_error(intercept, slope):\n",
    "    ..."
   ]
  },
  {
   "cell_type": "markdown",
   "id": "618f37bc-b694-4282-869f-ec5648b71b62",
   "metadata": {},
   "source": [
    "### Aufgabe 2\n",
    "\n",
    "Verwende nun die Funktion `gradient_descent_2d` aus vorheriger Aufgabe. Kannst du das Minimum der `squared_error` Funktion finden? Stimmt das Resultat mit den Parametern von oben überein? Das ganz ist ein bisschen \"tricky\", ich helfe dir gerne."
   ]
  },
  {
   "cell_type": "code",
   "execution_count": null,
   "id": "fde0577e-a4e4-4775-8e71-feac7b278a03",
   "metadata": {},
   "outputs": [],
   "source": [
    "def gradient_descent_2d(f, x_start, y_start, delta = 0.01, step_size=0.001, tol=0.01):\n",
    "    ..."
   ]
  },
  {
   "cell_type": "code",
   "execution_count": null,
   "id": "5c7d6bc0-3819-41b1-add0-b00bd9da8de5",
   "metadata": {},
   "outputs": [],
   "source": [
    "intercept, slope = gradient_descent_2d(squared_error, 50, 0)\n",
    "print(intercept, slope)"
   ]
  },
  {
   "cell_type": "markdown",
   "id": "9813946e-e102-49c0-b144-0fb515be264a",
   "metadata": {},
   "source": [
    "### Aufgabe 3\n",
    "\n",
    "Lade nun den Datensatz `guineas_large.csv` wie oben. Dieser Datensatz ist grösser und enthält mehr Attribute, nämlich:\n",
    "\n",
    "1. Geschlecht\n",
    "2. Krank (ja/nein)\n",
    "3. Alter\n",
    "4. Höchstgeschwindigkeit\n",
    "\n",
    "Verwende `linear_regression_plot` um zu untersuchen, welche Attribute sich wie auf das Gewicht auswirken. Welche Attribute haben welchen Effekt?"
   ]
  },
  {
   "cell_type": "code",
   "execution_count": null,
   "id": "e716993e-5f7c-4ae6-bd13-c2e8f51d78f8",
   "metadata": {},
   "outputs": [],
   "source": [
    "dataset_large = ...\n",
    "dataset_large.head()"
   ]
  },
  {
   "cell_type": "code",
   "execution_count": null,
   "id": "45707c75-1cef-477b-afd9-27886ee8c9c9",
   "metadata": {},
   "outputs": [],
   "source": [
    "linear_regression_plot(dataset=dataset_large, xlabel='size (cm)', ylabel='weight (g)')"
   ]
  },
  {
   "cell_type": "markdown",
   "id": "cae82e8c-8f48-46a2-94cb-62b402100834",
   "metadata": {},
   "source": [
    "### Aufgabe 4\n",
    "\n",
    "Wir verwenden nun `statsmodels` um eine lineare Regression mit mehreren Attributen zu machen. Kannst du dir vorstellen, was der Output bedeutet (insb. der Teil mit den Attributen)?"
   ]
  },
  {
   "cell_type": "code",
   "execution_count": null,
   "id": "2409827d-9293-4c55-b665-e29b21dba2c8",
   "metadata": {},
   "outputs": [],
   "source": [
    "import statsmodels.api as sm\n",
    "\n",
    "model = sm.OLS(dataset_large['weight (g)'], dataset_large[['intercept', 'size (cm)', 'is_male', 'is_sick', 'age (y)', 'max_speed (m/s)']])\n",
    "result = model.fit()\n",
    "result.summary()"
   ]
  }
 ],
 "metadata": {
  "kernelspec": {
   "display_name": "Python 3 (ipykernel)",
   "language": "python",
   "name": "python3"
  },
  "language_info": {
   "codemirror_mode": {
    "name": "ipython",
    "version": 3
   },
   "file_extension": ".py",
   "mimetype": "text/x-python",
   "name": "python",
   "nbconvert_exporter": "python",
   "pygments_lexer": "ipython3",
   "version": "3.10.2"
  }
 },
 "nbformat": 4,
 "nbformat_minor": 5
}
