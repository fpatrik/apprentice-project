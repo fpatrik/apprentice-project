{
 "cells": [
  {
   "cell_type": "markdown",
   "id": "2a51f5e3-3932-4f8d-a83c-f7b8e4e562fe",
   "metadata": {},
   "source": [
    "# Exercise 13\n",
    "\n",
    "## Logistische Regression\n",
    "\n",
    "Wir haben bereits die Lineare Regression angeschaut. Eine Regression versucht eine Variable durch andere auszudrücken. Also z.B. das Gewicht eines Meerschweinchens durch die Grösse, Alter etc. Eine weitere wichtige Klasse von Problemen im maschinellem Lernen sind Klassifizierungsprobleme. Wir werden versuchen vorherzusagen, ob Schüler eine Prüfung bestehen. Wir teilen die Schüler also in zwei Klassen (bestanden und nicht bestanden) ein. Ein Klassifizierungeproblem könnte aber auch mehr Klassen haben, wie z.B. die Art eines Tiers.\n",
    "\n",
    "Schauen wir uns zuerst die logitische Kurve an:"
   ]
  },
  {
   "cell_type": "code",
   "execution_count": null,
   "id": "86f4f740-81d0-4ab7-b722-a10cdc2d3e8f",
   "metadata": {},
   "outputs": [],
   "source": [
    "import numpy as np\n",
    "import matplotlib.pyplot as plt\n",
    "\n",
    "def f(x):\n",
    "    return 1 / (1 + np.exp(-x))\n",
    "\n",
    "def logistic_f():\n",
    "    x = np.linspace(-5, 5, num=200)\n",
    "    plt.title('Die Logistische Kurve')\n",
    "    plt.xlabel('Wert Lineare Regression')\n",
    "    plt.ylabel('Wahrscheinlichkeit Bestanden')\n",
    "    plt.plot(x, [f(v) for v in x])\n",
    "    plt.show()\n",
    "    \n",
    "logistic_f()"
   ]
  },
  {
   "cell_type": "markdown",
   "id": "695cf65e-c930-4e4f-9324-6fe2b40aa600",
   "metadata": {},
   "source": [
    "Die Idee ist folgende: wir machen zuerst eine lineare Regression und bestimmen einen Wert für jeden Schüler. Dann schauen wir diesen Wert auf der x-Achse der logistischen Kurve nach, wo wir dann die Wahrscheinlichkeit ablesen, dass der Schüler bestanden hat. Ist der Wert z.B. 0, dann wäre die Wahrscheinlichkeit etwa 50%. Ist der Wert 4, dann besteht die Person schon fast sicher."
   ]
  },
  {
   "cell_type": "markdown",
   "id": "7f07b5f4-d594-42fc-a232-9d3f15424218",
   "metadata": {},
   "source": [
    "### Aufgabe 1\n",
    "\n",
    "Visualisiere zuerst die Daten (exam.csv) wie folgt: erstelle einen 2d-Plot mit der Vornote auf der x-Achse und der Lernzeit auf der y-Achse. Färbe dann alle Datenpunkte welche bestanden haben grün und alle anderen rot. Verwende dafür matplotlib, insbesondere `scatter`, und `show`. Beschrifte bitte auch die Achsen und mache einen Titel. In Übung 11 findest du vielleicht ein Beispiel. Die Liste mit den Farben kannst du z.B. so erstellen:\n",
    "\n",
    "`['g' if row['passed'] else 'r' for index, row in exam.iterrows()]`"
   ]
  },
  {
   "cell_type": "code",
   "execution_count": null,
   "id": "0fc161ab-d7bc-4dbc-a646-75d3aa830b50",
   "metadata": {},
   "outputs": [],
   "source": [
    "import pandas as pd\n",
    "import matplotlib.pyplot as plt\n",
    "exam = pd.read_csv('exam.csv')\n",
    "\n",
    "..."
   ]
  },
  {
   "cell_type": "markdown",
   "id": "fbb873b4-51d6-4815-a9ae-f441296cc5a4",
   "metadata": {},
   "source": [
    "Nun können wir die logistische Regression machen, wie folgt:"
   ]
  },
  {
   "cell_type": "code",
   "execution_count": null,
   "id": "fe941767-135d-4ce4-a2b8-f7fbefe8ec34",
   "metadata": {},
   "outputs": [],
   "source": [
    "from sklearn.linear_model import LogisticRegression\n",
    "exam = pd.read_csv('exam.csv')\n",
    "clf = LogisticRegression(random_state=0).fit(exam[['previous_grade']], exam['passed'])\n",
    "\n",
    "for grade in [2, 3, 4, 5, 6]:\n",
    "    p = clf.predict_proba([[grade]])[0]\n",
    "    print(f'The probability of passing for someone with previous grade {grade} is {100 * p[1]}% and the probability of failing is {100 * p[0]}')\n"
   ]
  },
  {
   "cell_type": "markdown",
   "id": "b078b988-b0c2-4361-8c60-467e75dd4c01",
   "metadata": {},
   "source": [
    "### Aufgabe 1\n",
    "\n",
    "Kannst du die logistische Regression von oben noch ergänzen, sodass auch die anderen Attribute (Lernzeit und Nachhilfe) für die Vorhersage verwendet werden?"
   ]
  },
  {
   "cell_type": "code",
   "execution_count": null,
   "id": "b0a09715-6a59-43fb-80db-b2b18c2b78dd",
   "metadata": {},
   "outputs": [],
   "source": [
    "..."
   ]
  },
  {
   "cell_type": "markdown",
   "id": "fc7967bd-4135-475f-8d41-2da811f265b7",
   "metadata": {},
   "source": [
    "### Aufgabe 2\n",
    "\n",
    "Wir gehen nun davon aus, dass ein Schüler besteht, sofern die Wahrscheinlichkeit über 50% liegt. Berechne nun:\n",
    "\n",
    "* Welcher Prozentsatz der Schüler welche nach Modell bestehen, bestehen tatsächlich?\n",
    "* Welcher Prozentsatz der Schüler welche bestehen, hat das Modell richtig eingestuft?\n",
    "\n",
    "Eine Liste mit der Wahrscheinlichkeit aller Schüler bekommst du wie folgt:\n",
    "\n",
    "`p = clf.predict_proba(exam[['previous_grade']])[:, 1]`"
   ]
  },
  {
   "cell_type": "code",
   "execution_count": null,
   "id": "881731f0-a04e-465c-8d24-a0cbe3bbe4ec",
   "metadata": {},
   "outputs": [],
   "source": [
    "..."
   ]
  },
  {
   "cell_type": "markdown",
   "id": "c7ee1464-548d-461b-bb94-1acdcef47004",
   "metadata": {},
   "source": [
    "### Aufagebe 3\n",
    "\n",
    "Wir gehen nun davon aus, dass Schüler bestehen wenn die Wahrscheinlichkeit über 80% liegt. Beantworte wieder die beiden Fragen von oben. Was stellst du fest?"
   ]
  },
  {
   "cell_type": "code",
   "execution_count": null,
   "id": "02347954-bde5-4422-8a18-b440269fda08",
   "metadata": {},
   "outputs": [],
   "source": [
    "..."
   ]
  }
 ],
 "metadata": {
  "kernelspec": {
   "display_name": "Python 3 (ipykernel)",
   "language": "python",
   "name": "python3"
  },
  "language_info": {
   "codemirror_mode": {
    "name": "ipython",
    "version": 3
   },
   "file_extension": ".py",
   "mimetype": "text/x-python",
   "name": "python",
   "nbconvert_exporter": "python",
   "pygments_lexer": "ipython3",
   "version": "3.10.2"
  }
 },
 "nbformat": 4,
 "nbformat_minor": 5
}
