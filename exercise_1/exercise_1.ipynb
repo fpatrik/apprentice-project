{
 "cells": [
  {
   "cell_type": "markdown",
   "id": "afb6f1f3-5d75-4644-9070-cc9942c42cb3",
   "metadata": {},
   "source": [
    "# Exercise 1\n",
    "\n",
    "Hoi :). Ich habe ein paar Python Übungen für dich damit du dich damit vertraut machen kannst. Wenn du nicht weiter weisst kannst du immer Googeln oder mich fragen.\n",
    "\n",
    "## Rechnen\n",
    "Python kann man als Rechner brauchen, hier ein paar Beispiele:"
   ]
  },
  {
   "cell_type": "code",
   "execution_count": null,
   "id": "2c21ec17-c971-421e-a587-26376efdbbbb",
   "metadata": {},
   "outputs": [],
   "source": [
    "1+1"
   ]
  },
  {
   "cell_type": "code",
   "execution_count": null,
   "id": "74424d76-08f0-468b-b5d3-ecb477167e79",
   "metadata": {},
   "outputs": [],
   "source": [
    "2*3"
   ]
  },
  {
   "cell_type": "markdown",
   "id": "ef4c6980-5579-48db-920d-a13b04ecf421",
   "metadata": {},
   "source": [
    "Python kann sogar Text addieren, was passiert dann..?"
   ]
  },
  {
   "cell_type": "code",
   "execution_count": null,
   "id": "e87f1f6c-0bec-481d-b1ee-99bf96f677ab",
   "metadata": {},
   "outputs": [],
   "source": [
    "'Guten' + 'Tag'"
   ]
  },
  {
   "cell_type": "markdown",
   "id": "b84893d5-0f87-46ea-9b38-1a6031592038",
   "metadata": {},
   "source": [
    "Kann man Text auch multiplizieren? Probiers aus!"
   ]
  },
  {
   "cell_type": "code",
   "execution_count": null,
   "id": "2fa9727c-8414-43bc-a3be-38c34c1ea74a",
   "metadata": {},
   "outputs": [],
   "source": [
    "..."
   ]
  },
  {
   "cell_type": "markdown",
   "id": "9cc766b0-7006-4fdc-88e1-bb16b355877f",
   "metadata": {},
   "source": [
    "## Funktionen\n",
    "\n",
    "Python kennt Funktionen, sie helfen dabei den Code zu strukturieren. Eine Funktion erstellt man so:"
   ]
  },
  {
   "cell_type": "code",
   "execution_count": null,
   "id": "71b12493-34ee-4ad8-94b3-72b900aae5ec",
   "metadata": {},
   "outputs": [],
   "source": [
    "def test_function():\n",
    "    return 1"
   ]
  },
  {
   "cell_type": "markdown",
   "id": "cecc5fe3-84da-4a34-b654-565224973c71",
   "metadata": {},
   "source": [
    "Ausführen können wir die Funktion nun, indem wir sie aufrufen:"
   ]
  },
  {
   "cell_type": "code",
   "execution_count": null,
   "id": "9aca8dbb-a5ca-4b1b-8e78-b51c2d24d2b7",
   "metadata": {},
   "outputs": [],
   "source": [
    "test_function()"
   ]
  },
  {
   "cell_type": "markdown",
   "id": "2453571d-2b34-41e9-9891-761e8cdf42a8",
   "metadata": {},
   "source": [
    "Diese Funktion gibt einfach immer 1 zurück, was natürlich nicht viel bringt :)\n",
    "Eine Funktion kann aber auch Argumente haben und etwas mit ihnen machen:"
   ]
  },
  {
   "cell_type": "code",
   "execution_count": null,
   "id": "373a0d8b-50f7-46f6-865b-a5424e4ac7ac",
   "metadata": {},
   "outputs": [],
   "source": [
    "def another_test_function(number):\n",
    "    return number"
   ]
  },
  {
   "cell_type": "code",
   "execution_count": null,
   "id": "f9a2a354-e9ca-4689-b191-f103ccfb6924",
   "metadata": {},
   "outputs": [],
   "source": [
    "another_test_function(17)"
   ]
  },
  {
   "cell_type": "markdown",
   "id": "13228d42-ceca-4f12-8def-4b5080a043ff",
   "metadata": {},
   "source": [
    "Wir können z.B. eine Funktion schreiben, welche zwei Zahlen addiert:"
   ]
  },
  {
   "cell_type": "code",
   "execution_count": null,
   "id": "5a2a239e-efdf-44dd-8e51-b1b89c876675",
   "metadata": {},
   "outputs": [],
   "source": [
    "def add_numbers(number_1, number_2):\n",
    "    added_numbers = number_1 + number_2\n",
    "    return added_numbers"
   ]
  },
  {
   "cell_type": "markdown",
   "id": "2ba2b082-fbe7-42ab-a0e1-001e054ac6f6",
   "metadata": {},
   "source": [
    "Nun können wir überprüfen, ob es funktioniert:"
   ]
  },
  {
   "cell_type": "code",
   "execution_count": null,
   "id": "5b4d7c7e-42f9-4829-b124-a3920311824a",
   "metadata": {},
   "outputs": [],
   "source": [
    "add_numbers(4, 5)"
   ]
  },
  {
   "cell_type": "code",
   "execution_count": null,
   "id": "871301fa-65d9-4701-8288-38ff88e47566",
   "metadata": {},
   "outputs": [],
   "source": [
    "assert add_numbers(4, 5) == 4 + 5"
   ]
  },
  {
   "cell_type": "markdown",
   "id": "e2357556-9e4a-4476-a33d-ae0e9eee286b",
   "metadata": {},
   "source": [
    "Kannst du eine Funktion schreiben welche zwei Zahlen multipliziert?"
   ]
  },
  {
   "cell_type": "code",
   "execution_count": null,
   "id": "ff4e4e73-c8c4-40c5-878b-6758347e4c20",
   "metadata": {},
   "outputs": [],
   "source": [
    "def multiply_numbers(number_1, number_2):\n",
    "    ..."
   ]
  },
  {
   "cell_type": "markdown",
   "id": "f8684c4f-41df-41cc-a283-8ea585b2dc6b",
   "metadata": {},
   "source": [
    "Wenn es hier nicht rot wird funktioniert es richtig:"
   ]
  },
  {
   "cell_type": "code",
   "execution_count": null,
   "id": "92473f74-2d51-4b27-94a9-4c5d2fc72582",
   "metadata": {},
   "outputs": [],
   "source": [
    "assert multiply_numbers(17, 45) == 17 * 45"
   ]
  },
  {
   "cell_type": "markdown",
   "id": "95386d2b-f68e-444d-bae9-5dbd8833ba40",
   "metadata": {},
   "source": [
    "## Control Flow\n",
    "\n",
    "### `if`-Statement\n",
    "Mit einem `if`- Statement können wir abhängig von einem Wert verschiedene Dinge machen:"
   ]
  },
  {
   "cell_type": "code",
   "execution_count": null,
   "id": "c70a520a-2d73-409d-99b1-769a6a11d87e",
   "metadata": {},
   "outputs": [],
   "source": [
    "def function_with_if_statement(number):\n",
    "    if number > 5:\n",
    "        print('The number is greater than 5')\n",
    "    else:\n",
    "        print('The number is smaller than 5')"
   ]
  },
  {
   "cell_type": "code",
   "execution_count": null,
   "id": "315d7492-7e3d-4474-a466-f6915a611e9c",
   "metadata": {},
   "outputs": [],
   "source": [
    "function_with_if_statement(7)"
   ]
  },
  {
   "cell_type": "markdown",
   "id": "68e087d2-6ca1-4512-816f-dc0cb34a5784",
   "metadata": {},
   "source": [
    "Wir können z.B. auch die Länge eines Textes überprüfen:"
   ]
  },
  {
   "cell_type": "code",
   "execution_count": null,
   "id": "0dc08673-9164-4734-8530-3f9d257e80af",
   "metadata": {},
   "outputs": [],
   "source": [
    "def analyse_text_length(text):\n",
    "    text_length = len(text)\n",
    "    if text_length > 100:\n",
    "        print('This is a super long text!')\n",
    "    elif text_length > 20 and text_length <= 100:\n",
    "        print('This is a medium text.')\n",
    "    else:\n",
    "        print('This is a short text.')"
   ]
  },
  {
   "cell_type": "code",
   "execution_count": null,
   "id": "7cec211d-0147-49c8-991e-9a8bf732bcf8",
   "metadata": {},
   "outputs": [],
   "source": [
    "analyse_text_length('This is a medium length text')"
   ]
  },
  {
   "cell_type": "markdown",
   "id": "8f0f00b6-d847-41c0-9ada-f50abfdc9ebb",
   "metadata": {},
   "source": [
    "Kannst du eine Funktion schreiben, welche überprüft ob ein Text kürzer ist als eine Limite? Du kannst `return True` verwenden wenn der Text kürzer ist und `return False`  wenn der Text länger ist:"
   ]
  },
  {
   "cell_type": "code",
   "execution_count": null,
   "id": "7c071b53-af15-478e-9ecb-e628645ec55e",
   "metadata": {},
   "outputs": [],
   "source": [
    "def is_shorter_than_limit(text, limit):\n",
    "    ..."
   ]
  },
  {
   "cell_type": "markdown",
   "id": "9c56d179-a4e7-4c9d-8a4b-ef54074f12ee",
   "metadata": {},
   "source": [
    "Wenn es hier nicht rot wird funktioniert es richtig:"
   ]
  },
  {
   "cell_type": "code",
   "execution_count": null,
   "id": "9654c190-a9e6-44dc-8147-f3e7170f66ef",
   "metadata": {},
   "outputs": [],
   "source": [
    "assert is_shorter_than_limit('Kurzer Text', 100)\n",
    "assert not is_shorter_than_limit('Ein extrem langer Text', 10)"
   ]
  },
  {
   "cell_type": "markdown",
   "id": "ffc743f6-1d90-47ef-8bc6-4d9ae5c4dd46",
   "metadata": {},
   "source": [
    "### `for`-Loop\n",
    "Manchmal möchten wir Dinge mehrmals ausführen. Hier ist ein Beispiel:"
   ]
  },
  {
   "cell_type": "code",
   "execution_count": null,
   "id": "cce6e66f-cf41-4fa9-bc6d-102b70b9a95d",
   "metadata": {},
   "outputs": [],
   "source": [
    "def a_simple_for_loop():\n",
    "    a_list_with_numbers = [1, 3, 6]\n",
    "    for number in a_list_with_numbers:\n",
    "        # Hello, I am a comment :). str() converts the number to a text\n",
    "        print('I am number ' + str(number))"
   ]
  },
  {
   "cell_type": "code",
   "execution_count": null,
   "id": "045e2acf-2997-4f55-9937-d01525c30661",
   "metadata": {},
   "outputs": [],
   "source": [
    "a_simple_for_loop()"
   ]
  },
  {
   "cell_type": "markdown",
   "id": "3c24b00c-337a-4e33-9d63-711f952022b9",
   "metadata": {},
   "source": [
    "Hier ist eine Funktion welche die grösste Zahl in einer Liste findet:"
   ]
  },
  {
   "cell_type": "code",
   "execution_count": null,
   "id": "0517e1d8-9994-4941-ab43-abc2adab220a",
   "metadata": {},
   "outputs": [],
   "source": [
    "def find_greatest_number(numbers_list):\n",
    "    # We use None here because we don't have any reference number yet...\n",
    "    greatest_number = None\n",
    "    \n",
    "    for number in numbers_list:\n",
    "        if greatest_number is None or number > greatest_number:\n",
    "            greatest_number = number\n",
    "            \n",
    "    return greatest_number"
   ]
  },
  {
   "cell_type": "code",
   "execution_count": null,
   "id": "75862497-be7c-40d6-b0c4-fbf7d569bb93",
   "metadata": {},
   "outputs": [],
   "source": [
    "find_greatest_number([1, 8, 4])"
   ]
  },
  {
   "cell_type": "markdown",
   "id": "d173b693-acd1-47b1-90e8-2588ad66c13b",
   "metadata": {},
   "source": [
    "Diese Funktion ist übrigens so wichtig, dass es sie in Python bereits gibt, nämlich `max`:"
   ]
  },
  {
   "cell_type": "code",
   "execution_count": null,
   "id": "3b88c42e-0d60-45e7-8c5e-1631a12aea74",
   "metadata": {},
   "outputs": [],
   "source": [
    "max([1, 8, 4])"
   ]
  },
  {
   "cell_type": "markdown",
   "id": "107f4a7d-4d57-47d5-bd1e-77d8a0a5df79",
   "metadata": {},
   "source": [
    "Kannst du eine Funktion schreiben, welche den kürzesten Text in einer Liste findet..?"
   ]
  },
  {
   "cell_type": "code",
   "execution_count": null,
   "id": "be435a76-2c4a-431c-8bd9-c10e37345ed1",
   "metadata": {},
   "outputs": [],
   "source": [
    "def find_shortest_text(text_list):\n",
    "    ..."
   ]
  },
  {
   "cell_type": "code",
   "execution_count": null,
   "id": "09bd2514-64e1-4d8f-9aaf-8334258ef841",
   "metadata": {},
   "outputs": [],
   "source": [
    "find_shortest_text(['abc', 'Einsiedeln', 'Z'])"
   ]
  },
  {
   "cell_type": "code",
   "execution_count": null,
   "id": "a87c21d5-5dcd-4715-840b-1eb7b1919cd4",
   "metadata": {},
   "outputs": [],
   "source": [
    "assert find_shortest_text(['abc']) == 'abc'\n",
    "assert find_shortest_text(['abc', 'a']) == 'a'\n",
    "assert find_shortest_text(['a', 'abc']) == 'a'"
   ]
  },
  {
   "cell_type": "markdown",
   "id": "5d96294f-55ac-4daa-a903-564df4d0b047",
   "metadata": {},
   "source": [
    "## Data Structures\n",
    "\n",
    "Python besitzt verschiedene Datenstrukturen, die Liste hast du ja bereits ein bisschen kennengelernt. \n",
    "\n",
    "### Die Liste\n",
    "\n",
    "Eine Liste ist eine geordnete Sammlung von Elementen. Listen können Texte, Zahlen oder soger andere Listen enthalten!"
   ]
  },
  {
   "cell_type": "code",
   "execution_count": null,
   "id": "867fc9dd-5a1a-4572-85d0-34b1a5f77f91",
   "metadata": {},
   "outputs": [],
   "source": [
    "list_with_numbers = [1, 2, 3]\n",
    "list_with_texts = ['a', 'b']\n",
    "list_with_lists = [[1, 2], [3, 4]]"
   ]
  },
  {
   "cell_type": "markdown",
   "id": "e53089e3-1ac6-47a3-8270-703760b2a1cb",
   "metadata": {},
   "source": [
    "Wir können Elemente der Liste wie folgt abrufen:"
   ]
  },
  {
   "cell_type": "code",
   "execution_count": null,
   "id": "6e1d5517-dc35-4d7b-8e4f-7cb05d62c0ea",
   "metadata": {},
   "outputs": [],
   "source": [
    "list_with_numbers[0]"
   ]
  },
  {
   "cell_type": "code",
   "execution_count": null,
   "id": "17c44b38-f042-41e0-8b5b-4205db7f8005",
   "metadata": {},
   "outputs": [],
   "source": [
    "list_with_texts[1]"
   ]
  },
  {
   "cell_type": "markdown",
   "id": "2c6d19cb-d3c7-4b49-bf5c-53c09d945905",
   "metadata": {},
   "source": [
    "Achtung, Python und die meisten Programmiersprachen beginnen mit zählen bei 0. Das heisst das erste Element der Liste hat Index 0.\n",
    "Wir können auch das letzte Element der Liste abrufen:"
   ]
  },
  {
   "cell_type": "code",
   "execution_count": null,
   "id": "70ff37d0-8554-483d-b341-9e70b8c4be0b",
   "metadata": {},
   "outputs": [],
   "source": [
    "list_with_numbers[-1]"
   ]
  },
  {
   "cell_type": "markdown",
   "id": "2d550a9f-3c52-4a9d-87ab-003b47e4fb65",
   "metadata": {},
   "source": [
    "Kannst du eine Funktion schreiben welche überprüft ob ein text mit dem gleichen Buchstaben beginnt und endet? Du kannst wieder `True` und `False` zurückgeben und so tun als wäre der Text eine Liste!"
   ]
  },
  {
   "cell_type": "code",
   "execution_count": null,
   "id": "2c18e73d-7b81-411e-b226-d3c2633b851a",
   "metadata": {},
   "outputs": [],
   "source": [
    "def starts_and_ends_with_same_letter(text):\n",
    "    ..."
   ]
  },
  {
   "cell_type": "code",
   "execution_count": null,
   "id": "9e4abfdc-e13e-47e1-b58b-712844ce05b0",
   "metadata": {},
   "outputs": [],
   "source": [
    "assert starts_and_ends_with_same_letter('ABBA')\n",
    "assert not starts_and_ends_with_same_letter('ACDC')"
   ]
  },
  {
   "cell_type": "markdown",
   "id": "7c7db849-268d-45bd-9aed-a9e2b4bcfa04",
   "metadata": {},
   "source": [
    "Wir können auch einen Teil einer Liste. Z.b. vom Element mit Index 1 bis zum Ende der Liste:"
   ]
  },
  {
   "cell_type": "code",
   "execution_count": null,
   "id": "0b485665-a013-4544-87b4-d2b504d40a58",
   "metadata": {},
   "outputs": [],
   "source": [
    "list_with_numbers[1:]"
   ]
  },
  {
   "cell_type": "markdown",
   "id": "ccfa2357-d602-4c66-820c-46c6b0ac0e4c",
   "metadata": {},
   "source": [
    "...oder vom Beginn der Liste bis (ausschliesslich) Element mit Index 2:"
   ]
  },
  {
   "cell_type": "code",
   "execution_count": null,
   "id": "a9992646-237d-432d-b61f-475ce7376d2f",
   "metadata": {},
   "outputs": [],
   "source": [
    "list_with_numbers[:2]"
   ]
  },
  {
   "cell_type": "markdown",
   "id": "694b2ac2-ca07-44e5-a70a-8c12e903894a",
   "metadata": {},
   "source": [
    "...oder vom Element mit Index bis (ausschliesslich) Element mit Index 3:"
   ]
  },
  {
   "cell_type": "code",
   "execution_count": null,
   "id": "f6f1d298-daa0-482a-9bea-742620a96fac",
   "metadata": {},
   "outputs": [],
   "source": [
    "list_with_numbers[1:3]"
   ]
  },
  {
   "cell_type": "markdown",
   "id": "3be40588-4b16-46da-aed3-a3749117e557",
   "metadata": {},
   "source": [
    "Kannst du eine Funktion schreiben welche die ersten drei Buchstaben eines Textes zurückgibt?"
   ]
  },
  {
   "cell_type": "code",
   "execution_count": null,
   "id": "1139daa3-0c21-48b1-b95d-7b3f3840136c",
   "metadata": {},
   "outputs": [],
   "source": [
    "def first_three_letters(text):\n",
    "    ..."
   ]
  },
  {
   "cell_type": "code",
   "execution_count": null,
   "id": "53df8a95-5576-4bf1-b560-9afb0e28c589",
   "metadata": {},
   "outputs": [],
   "source": [
    "assert first_three_letters('Guten Tag') == 'Gut'"
   ]
  },
  {
   "cell_type": "markdown",
   "id": "865ed5e1-c8ea-4d79-a309-8736d69fe308",
   "metadata": {},
   "source": [
    "Wir können auch die Position eines Elementes in einer Liste finden:"
   ]
  },
  {
   "cell_type": "code",
   "execution_count": null,
   "id": "e7ee3847-9e98-4791-99c1-70667e0cbde5",
   "metadata": {},
   "outputs": [],
   "source": [
    "list_with_numbers.index(2)"
   ]
  },
  {
   "cell_type": "markdown",
   "id": "515dd323-c9ff-4c34-ac2b-dee0e104f71a",
   "metadata": {},
   "source": [
    "Was passiert wenn das Element mehrmals vorkommt? Probier es aus!"
   ]
  },
  {
   "cell_type": "code",
   "execution_count": null,
   "id": "15d904ab-b051-41b2-b808-1d5961c65570",
   "metadata": {},
   "outputs": [],
   "source": [
    "list_with_duplicates = [1, 2, 3, 1]\n",
    "..."
   ]
  },
  {
   "cell_type": "markdown",
   "id": "038196e9-fd3f-4188-bd57-ec6f6b702319",
   "metadata": {},
   "source": [
    "Wir können auch Elemente von einer Liste entfernen und hinzufügen:"
   ]
  },
  {
   "cell_type": "code",
   "execution_count": null,
   "id": "4363a37d-4a6f-44ab-9393-b311cbd1822b",
   "metadata": {},
   "outputs": [],
   "source": [
    "some_list = [1, 2, 3, 4, 5]\n",
    "removed_element = some_list.pop(2)\n",
    "print('We removed', removed_element)\n",
    "print('The list is now: ', some_list)\n",
    "\n",
    "some_list.append(removed_element)\n",
    "print('Now the element is at the end: ', some_list)"
   ]
  },
  {
   "cell_type": "markdown",
   "id": "aa32f679-1397-4cd4-8c9d-98a35c2b87a2",
   "metadata": {},
   "source": [
    "Listen kann man übrigens auch addieren (`+`) was passiert dann..?"
   ]
  },
  {
   "cell_type": "code",
   "execution_count": null,
   "id": "e848ec64-8ae9-4e8d-a485-bbbdc42ffe13",
   "metadata": {},
   "outputs": [],
   "source": [
    "... + ..."
   ]
  },
  {
   "cell_type": "markdown",
   "id": "531f96dd-b6ca-410b-9f3b-521fbff88ea4",
   "metadata": {},
   "source": [
    "### Dictionaries\n",
    "\n",
    "Ein dictionary speichert sogenannte \"key-value pairs\":"
   ]
  },
  {
   "cell_type": "code",
   "execution_count": null,
   "id": "b3a9dada-948d-4088-b1aa-49608d99cd94",
   "metadata": {},
   "outputs": [],
   "source": [
    "capitals = {\n",
    "    'CH': 'Bern',\n",
    "    'DE': 'Berlin',\n",
    "    'FR': 'Paris'\n",
    "}"
   ]
  },
  {
   "cell_type": "markdown",
   "id": "ea1cd159-412b-4665-9baa-d43d8a05ee58",
   "metadata": {},
   "source": [
    "Wie können nun einen Key eingeben und bekommen den Wert zurück:"
   ]
  },
  {
   "cell_type": "code",
   "execution_count": null,
   "id": "e7acacff-7586-42a1-873b-13dc43c5eda6",
   "metadata": {},
   "outputs": [],
   "source": [
    "capitals['CH']"
   ]
  },
  {
   "cell_type": "markdown",
   "id": "6698cab0-c1e0-4d90-87b3-33d122bbbc2b",
   "metadata": {},
   "source": [
    "Wir können uns die Keys anschauen:"
   ]
  },
  {
   "cell_type": "code",
   "execution_count": null,
   "id": "2562d398-b535-4f9f-88ba-17d344c840ce",
   "metadata": {},
   "outputs": [],
   "source": [
    "capitals.keys()"
   ]
  },
  {
   "cell_type": "markdown",
   "id": "c6ab95cb-52be-4985-ab97-b4057e329406",
   "metadata": {},
   "source": [
    "Ebenso können wir uns die Werte anschauen:"
   ]
  },
  {
   "cell_type": "code",
   "execution_count": null,
   "id": "24960032-c568-4cd7-b172-0c4a7cb5bfce",
   "metadata": {},
   "outputs": [],
   "source": [
    "capitals.values()"
   ]
  },
  {
   "cell_type": "markdown",
   "id": "2082321f-08f8-4b5e-ba6f-7a9743721ca7",
   "metadata": {},
   "source": [
    "Einen Loop über alle Einträge können wir so machen:"
   ]
  },
  {
   "cell_type": "code",
   "execution_count": null,
   "id": "a7174ad8-557e-4276-8ba6-3bdd4ec7e7c4",
   "metadata": {},
   "outputs": [],
   "source": [
    "for key, value in capitals.items():\n",
    "    print(key, value)"
   ]
  },
  {
   "cell_type": "markdown",
   "id": "29cc5a3d-f233-424c-8268-c8e1358381bd",
   "metadata": {},
   "source": [
    "Einen neuen Eintrag hinzufügen können wir so:"
   ]
  },
  {
   "cell_type": "code",
   "execution_count": null,
   "id": "5ede0a21-7876-4dd2-a574-03709a56157f",
   "metadata": {},
   "outputs": [],
   "source": [
    "capitals['GB'] = 'London'"
   ]
  },
  {
   "cell_type": "code",
   "execution_count": null,
   "id": "47df36f4-3b3c-426a-bf2a-f838556f5abe",
   "metadata": {},
   "outputs": [],
   "source": [
    "capitals"
   ]
  },
  {
   "cell_type": "markdown",
   "id": "1697cb0d-669a-4acc-94d8-4f5919e0e480",
   "metadata": {},
   "source": [
    "Ein key kann nur einmal im Dictionary auftauchen. Setzt man einen zweiten Wert, wird der erste überschrieben:"
   ]
  },
  {
   "cell_type": "code",
   "execution_count": null,
   "id": "955dc8b3-45c4-4f70-b6b9-466694cb2441",
   "metadata": {},
   "outputs": [],
   "source": [
    "capitals['CH'] = 'Mägenwil'"
   ]
  },
  {
   "cell_type": "code",
   "execution_count": null,
   "id": "aa0e5e4c-44a5-4ce4-8ae7-c0a297d40fc3",
   "metadata": {},
   "outputs": [],
   "source": [
    "capitals"
   ]
  },
  {
   "cell_type": "markdown",
   "id": "01e7a14d-e101-450e-9f99-270d50fbd45a",
   "metadata": {},
   "source": [
    "Hier ist eine Funktion welche alle Buchstaben sammelt welche in einem Text vorkommen:"
   ]
  },
  {
   "cell_type": "code",
   "execution_count": null,
   "id": "8b7e55ec-900d-4176-b2cf-9881dd0c1ad0",
   "metadata": {},
   "outputs": [],
   "source": [
    "def find_unique_letters(text):\n",
    "    letters = {}\n",
    "    \n",
    "    for letter in text:\n",
    "        letters[letter] = True\n",
    "    \n",
    "    # list() turns the keys into a list\n",
    "    return list(letters.keys())"
   ]
  },
  {
   "cell_type": "code",
   "execution_count": null,
   "id": "29b7ca1b-e3a7-461c-842b-2c1c99995503",
   "metadata": {},
   "outputs": [],
   "source": [
    "find_unique_letters('ABBA')"
   ]
  },
  {
   "cell_type": "markdown",
   "id": "6c970af1-a111-421b-8e0e-402c6e46003a",
   "metadata": {},
   "source": [
    "Hier noch ein Tipp für die nächste Aufgabe, überprüfen ob ein Key in einem Dictionary ist, kannst du so:"
   ]
  },
  {
   "cell_type": "code",
   "execution_count": null,
   "id": "983bebfe-9ae4-4cb7-8197-67356db3a513",
   "metadata": {},
   "outputs": [],
   "source": [
    "'CH' in capitals"
   ]
  },
  {
   "cell_type": "markdown",
   "id": "2fd80b53-91a0-466c-bb23-632d96aabfcc",
   "metadata": {},
   "source": [
    "Kannst du eine Funktion schreiben, welche die Anzahl jedes Buchstaben in einem Text zählt? Du kannst es ähnlich machen wie in der `find_unique_letters` Funktion. Wenn du einen Buchstaben zum ersten mal siehst, setzt du den Wert auf 1. Bei den nächsten Malen erhöhst du den Wert um 1."
   ]
  },
  {
   "cell_type": "code",
   "execution_count": null,
   "id": "9194a4f7-e03f-48e8-afcc-e875b044354b",
   "metadata": {},
   "outputs": [],
   "source": [
    "def count_letters_in_text(text):\n",
    "    ..."
   ]
  }
 ],
 "metadata": {
  "kernelspec": {
   "display_name": "Python 3 (ipykernel)",
   "language": "python",
   "name": "python3"
  },
  "language_info": {
   "codemirror_mode": {
    "name": "ipython",
    "version": 3
   },
   "file_extension": ".py",
   "mimetype": "text/x-python",
   "name": "python",
   "nbconvert_exporter": "python",
   "pygments_lexer": "ipython3",
   "version": "3.10.2"
  }
 },
 "nbformat": 4,
 "nbformat_minor": 5
}
