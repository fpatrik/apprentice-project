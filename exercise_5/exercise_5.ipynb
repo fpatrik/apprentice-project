{
 "cells": [
  {
   "cell_type": "markdown",
   "id": "efccf876-bb28-4b82-b578-693192fc7824",
   "metadata": {},
   "source": [
    "# Exercise 5\n",
    "## Zufallsvariablen\n",
    "\n",
    "Ob du Daten auswerten willst oder ein Spiel programmieren möchtest, viele Dinge unterliegen dem Zufall. In Python können wir eine zufällige Zahl zwischen `0` und `1` wie folgt generieren:"
   ]
  },
  {
   "cell_type": "code",
   "execution_count": null,
   "id": "fa796a27-8cd2-41ef-b0f6-1c9e91cd6727",
   "metadata": {},
   "outputs": [],
   "source": [
    "import numpy as np\n",
    "np.random.uniform()"
   ]
  },
  {
   "cell_type": "markdown",
   "id": "86578a1e-bf8e-45c2-b75d-ab3c690a8a78",
   "metadata": {},
   "source": [
    "Wenn du die Funktion mehrmals ausführst bekommst du immer wieder andere Zahlen!\n",
    "Die Funktion heisst `uniform`, da die Zahlen gleichmässig zwischen `0` und `1` verteilt sind."
   ]
  },
  {
   "cell_type": "markdown",
   "id": "1b0a53ac-acff-4df3-bef4-6cc6c8d8fbff",
   "metadata": {},
   "source": [
    "### Aufgabe 1\n",
    "\n",
    "Kannst du mithilfe von `np.random.uniform` eine Funktion erstellen welche mit 50% Wahrscheinlichkeit `True` und mit 50% Wahrscheinlichkeit `False` zurückgibt?"
   ]
  },
  {
   "cell_type": "code",
   "execution_count": null,
   "id": "4eeb7673-b4c8-4576-8f74-30dc5c47da3a",
   "metadata": {},
   "outputs": [],
   "source": [
    "def true_or_false():\n",
    "    ..."
   ]
  },
  {
   "cell_type": "markdown",
   "id": "c5c24eca-323b-488d-8327-dea0c4f5c652",
   "metadata": {},
   "source": [
    "### Aufgabe 2\n",
    "\n",
    "Kannst du mithilfe von `np.random.uniform` eine Funktion erstellen, welche Zufallszahlen wie bei einem Würfel generiert? Das ist nicht ganz so einfach, ich helfe dir gerne, wenn du nicht weiter kommst. :)"
   ]
  },
  {
   "cell_type": "code",
   "execution_count": null,
   "id": "7ed2fa36-08d5-4835-8083-1e5125363e74",
   "metadata": {},
   "outputs": [],
   "source": [
    "def my_dice():\n",
    "    ..."
   ]
  },
  {
   "cell_type": "markdown",
   "id": "a86bd23f-2a7c-4403-993b-27a882601701",
   "metadata": {},
   "source": [
    "Weil man häufig zufällige ganze Zahlen braucĥt, haben die Leute von numpy übrigens bereits eine solche Funktion gemacht:"
   ]
  },
  {
   "cell_type": "code",
   "execution_count": null,
   "id": "901ad326-a9d6-4aa0-885a-b74c79554b3f",
   "metadata": {},
   "outputs": [],
   "source": [
    "np.random.randint(1, 7, size=100)"
   ]
  },
  {
   "cell_type": "markdown",
   "id": "4e1f76e1-8e75-4200-b23c-9817d947c9d1",
   "metadata": {},
   "source": [
    "### Aufgabe 3\n",
    "\n",
    "Kannst du überprüfen ob deine `true_or_false` Funktion das richtige macht? Schreibe eine Funktion, welche `true_or_false` 1000 mal ausführt und die Anzahl `True` zählt!"
   ]
  },
  {
   "cell_type": "code",
   "execution_count": null,
   "id": "8cf33dc4-f024-49d3-8a1d-08038026726c",
   "metadata": {},
   "outputs": [],
   "source": [
    "def test_true_or_false():\n",
    "    ..."
   ]
  },
  {
   "cell_type": "markdown",
   "id": "eb27cfba-567f-4d3e-8569-7655d4569c72",
   "metadata": {},
   "source": [
    "Was meinst du? Stimmt das Resultat mit deinen Erwartungen überein?"
   ]
  },
  {
   "cell_type": "markdown",
   "id": "d9dd06b6-9522-4f5e-b356-936a348173e2",
   "metadata": {},
   "source": [
    "### Aufgabe 4\n",
    "\n",
    "Zufallsvariablen müssen nicht immer gleich verteilt sein. Es gibt ganz unterschiedliche Verteilungen. Dies ist die sogenannte Dichtefunktion der Normalverteilung:"
   ]
  },
  {
   "cell_type": "code",
   "execution_count": null,
   "id": "8fd4ac4e-56a8-4431-ba2e-f36a623b4b83",
   "metadata": {},
   "outputs": [],
   "source": [
    "import scipy\n",
    "import numpy as np\n",
    "import matplotlib.pyplot as plt\n",
    "\n",
    "x = np.linspace(-4, 4, num=100)\n",
    "plt.title('Die Normalverteilung')\n",
    "plt.plot(x, [scipy.stats.norm.pdf(v, loc=0, scale=1) for v in x])\n",
    "plt.show()"
   ]
  },
  {
   "cell_type": "markdown",
   "id": "69e29c92-b31b-418a-8eab-4b961d2e6077",
   "metadata": {},
   "source": [
    "Die Dichtefunktion zeigt dir wie wahrscheinlich es ist, dass du eine bestimmte Zahl bekommst. In diesem Fall ist die Dichte um 0 am höchsten, das heisst die meisten Zufallszahlen werden nahe bei 0 liegen. Es ist aber auch möglich, dass du 3 bekommst, es ist einfach sehr unwahrscheinlich. Normalverteilte Zufallsvariablen kannst du so generieren:"
   ]
  },
  {
   "cell_type": "code",
   "execution_count": null,
   "id": "e5463eb1-43bd-41ef-9888-900fe859d34e",
   "metadata": {},
   "outputs": [],
   "source": [
    "scipy.stats.norm.rvs()"
   ]
  },
  {
   "cell_type": "markdown",
   "id": "1b5bf5a5-c65b-4e60-969f-13c0c2634c35",
   "metadata": {},
   "source": [
    "Du kannst die Funktion wieder ein paar mal ausführen. Stimmen die Zahlen nach deinem Gefühl etwa mit dem Plot überein?\n",
    "Was denkst du, wie gross ist die Wahrscheinlichkeit, dass du einen Wert grösser als 0 bekommst?\n",
    "Mache noch eine Funktion welche das überprüft! Du kannst das ganz ähnlich wie in Aufgabe 3 machen."
   ]
  },
  {
   "cell_type": "code",
   "execution_count": null,
   "id": "009944fc-eb66-472c-9499-deae0aa6df10",
   "metadata": {},
   "outputs": [],
   "source": [
    "def test_normal_distribution():\n",
    "    ..."
   ]
  },
  {
   "cell_type": "markdown",
   "id": "fb219664-2353-4b7c-be15-66400ad03aa9",
   "metadata": {},
   "source": [
    "### Aufgabe 5\n",
    "\n",
    "Schreibe eine Funktion, welche folgendes macht:\n",
    "1. Beginne mit `result = 0`\n",
    "2. Mach nun eine Schleife, die 50 mal ausgeführt wird.\n",
    "3. Erhöhe in der Schlaufe den Wert von `result` um 1, aber nur mit einer Wahrscheinlichkeit von 10%\n",
    "4. Gebe dann das Resultat zurück"
   ]
  },
  {
   "cell_type": "code",
   "execution_count": null,
   "id": "7c31bdd1-143f-442f-b71b-b8a8acc8b786",
   "metadata": {},
   "outputs": [],
   "source": [
    "def my_random_variable():\n",
    "    ...\n",
    "        "
   ]
  },
  {
   "cell_type": "code",
   "execution_count": null,
   "id": "9e020f77-b442-43be-9777-1272bbc250d2",
   "metadata": {},
   "outputs": [],
   "source": [
    "samples = [my_random_variable() for i in range(10000)]\n",
    "n, x, _ = plt.hist(samples, bins=np.linspace(0, 20, 21), density=True, align='left')\n",
    "plt.plot(x, scipy.stats.poisson.pmf(x, mu=5))\n",
    "plt.show()"
   ]
  },
  {
   "cell_type": "markdown",
   "id": "1058e772-fc2c-4af0-9124-9a0e09b5be47",
   "metadata": {},
   "source": [
    "Wenn du es richtig gemacht hast müsste dein Zufallsvariable (Blau) sich etwa mit meiner Linie (Orange) decken. Passt es..?\n",
    "Deine Zufallsvariable folgt einer sogenannten Poissonverteilung. Das Interessante ist hier: weiss man die Verteilung von Daten kann man vielleicht auch darauf schliessen wie sie entsanden sind. Denn verschiedene Prozesse führen zu unterschiedlichen Verteilungen. Ich könnte mir also etwa denken, was du in deiner `my_random_variable` Funktion machst, alleine durch die Verteilung der Resultate!"
   ]
  },
  {
   "cell_type": "markdown",
   "id": "88d619b0-89d1-4280-8198-30192de09cd3",
   "metadata": {},
   "source": [
    "### Aufgabe 6\n",
    "\n",
    "Wir möchten nun verstehen was passiert, wenn man verschiedene Zufallsvariablen zusammenzählt. Wir brauchen dafür zwei Funktionen. Die erste Funktion erzeugt eine gleichmässige Zufallsvariable zwischen 0 und 3: "
   ]
  },
  {
   "cell_type": "code",
   "execution_count": null,
   "id": "88d9195c-a59f-4d6c-b65b-a4e051d32e58",
   "metadata": {},
   "outputs": [],
   "source": [
    "def my_uniform_distribution():\n",
    "    ..."
   ]
  },
  {
   "cell_type": "markdown",
   "id": "4a15ef54-5086-49f3-aa74-af580af0b19d",
   "metadata": {},
   "source": [
    "Die zweite Zufallsvariable ist Normalverteilt, ich habe sie schon erstellt:"
   ]
  },
  {
   "cell_type": "code",
   "execution_count": null,
   "id": "3bea3f4a-5135-466e-8a9b-cbb9157cb60e",
   "metadata": {},
   "outputs": [],
   "source": [
    "def my_normal_distribution():\n",
    "    return scipy.stats.norm.rvs(loc=1.5, scale=0.75)"
   ]
  },
  {
   "cell_type": "markdown",
   "id": "cf28e4eb-38c9-4890-9aeb-2230d7ffa59a",
   "metadata": {},
   "source": [
    "Diese Funktion zeigt nun was passiert wenn man viele dieser Zufallsvariablen generiert und zusammenzählt.\n",
    "Führe zuerst `sum_random_variables(n=1)` aus, dann mit `n=2`, `n=10` etc. Was fällt dir auf?"
   ]
  },
  {
   "cell_type": "code",
   "execution_count": null,
   "id": "e068529f-4078-445e-8349-e41951be9d8d",
   "metadata": {},
   "outputs": [],
   "source": [
    "def sum_random_variables(n=1):\n",
    "    \n",
    "    uniform = [sum(my_uniform_distribution() for j in range(n)) for i in range(10000)]\n",
    "    normal = [sum(my_normal_distribution() for j in range(n)) for i in range(10000)]\n",
    "\n",
    "    x_min = 1.5 * n - 3 * np.sqrt(n)\n",
    "    x_max = 1.5 * n + 3 * np.sqrt(n)\n",
    "    \n",
    "    plt.hist(uniform, bins=np.linspace(x_min, x_max, 40), density=True)\n",
    "    plt.title(f'Summe von {n} mal my_uniform_distribution')\n",
    "    plt.show()\n",
    "    \n",
    "    plt.hist(normal, bins=np.linspace(x_min, x_max, 40), density=True)\n",
    "    plt.title(f'Summe von {n} mal my_normal_distribution')\n",
    "    plt.show()\n",
    "\n",
    "sum_random_variables(n=1)"
   ]
  },
  {
   "cell_type": "markdown",
   "id": "70436d9a-1ed4-4324-915e-27a46d8d7b35",
   "metadata": {},
   "source": [
    "### Aufgabe 7\n",
    "\n",
    "Schreibe eine Funktion welche den Mittelwert einer Verteilung brechnet. Dafür kannst du viele (z.B. 1000) Zufallsvariablen generieren und dann den Durchschnitt berechnen. Wir machen das zuerst für die Normalverteilung, du kannst `scipy.stats.norm.rvs(loc=1)` verwenden."
   ]
  },
  {
   "cell_type": "code",
   "execution_count": null,
   "id": "b7ca24e0-d8ac-42d7-abe6-27decf5895be",
   "metadata": {},
   "outputs": [],
   "source": [
    "def mean_of_normal_distribution():\n",
    "    ...\n",
    "\n",
    "mean_of_normal_distribution()"
   ]
  },
  {
   "cell_type": "markdown",
   "id": "5f28af6f-acf9-438b-928f-e637350006aa",
   "metadata": {},
   "source": [
    "Das `loc=1` bedeutet, dass der Durchschnitt etwa 1 sein sollte. Kannst du das bestätigen? Wenn du willst kannst du z.B. `loc=2` probieren und schauen, ob der Durchschnitt etwa 2 ist.\n",
    "Nun machen wir das gleiche für die Gamma-Verteilung, du kannst dafür kannst du `scipy.stats.gamma.rvs(loc=0, a=1)` verwenden."
   ]
  },
  {
   "cell_type": "code",
   "execution_count": null,
   "id": "a243cdd1-5796-48cc-9715-91fb8fa49d2e",
   "metadata": {},
   "outputs": [],
   "source": [
    "def mean_of_gamma_distribution():\n",
    "    ...\n",
    "\n",
    "mean_of_gamma_distribution()"
   ]
  },
  {
   "cell_type": "markdown",
   "id": "15a610b2-2044-46c0-bee4-d6e3fe5f80e7",
   "metadata": {},
   "source": [
    "Liegt der Wert wieder nahe bei 1? Wenn du willst, kannst du wiederrum `loc` anpassen und schauen was passiert.\n",
    "Berechne nun wie oft die Zufallsvariable grösser als der Mittelwert (also 1) ist. Generiere dafür wiederrum (z.B. 1000) Zufallsvariablen und schaue, ob sie grösser als 1 sind."
   ]
  },
  {
   "cell_type": "code",
   "execution_count": null,
   "id": "08633f66-f479-4741-bb9b-db5c61190efa",
   "metadata": {},
   "outputs": [],
   "source": [
    "def greater_than_1_normal_distribution():\n",
    "    ...\n",
    "\n",
    "greater_than_1_normal_distribution()"
   ]
  },
  {
   "cell_type": "code",
   "execution_count": null,
   "id": "c4c46870-2af0-41d3-97b2-afac181a07f9",
   "metadata": {},
   "outputs": [],
   "source": [
    "def greater_than_1_gamma_distribution():\n",
    "    ...\n",
    "\n",
    "greater_than_1_gamma_distribution()"
   ]
  },
  {
   "cell_type": "markdown",
   "id": "42908c45-424e-4f94-90c2-4998acc4e972",
   "metadata": {},
   "source": [
    "Was fällt dir auf? Hier sind zwei Plots der Dichtefunktionen als Hilfe:"
   ]
  },
  {
   "cell_type": "code",
   "execution_count": null,
   "id": "5c069d10-2fe1-4862-b4c2-bebb91f4598c",
   "metadata": {},
   "outputs": [],
   "source": [
    "x = np.linspace(-2, 4, num=100)\n",
    "plt.title('Die Normalverteilung')\n",
    "plt.plot(x, [scipy.stats.norm.pdf(v, loc=1) for v in x])\n",
    "plt.show()\n",
    "\n",
    "x = np.linspace(-2, 4, num=100)\n",
    "plt.title('Die Gammaverteilung')\n",
    "plt.plot(x, [scipy.stats.gamma.pdf(v, loc=0, a=1) for v in x])\n",
    "plt.show()"
   ]
  }
 ],
 "metadata": {
  "kernelspec": {
   "display_name": "Python 3 (ipykernel)",
   "language": "python",
   "name": "python3"
  },
  "language_info": {
   "codemirror_mode": {
    "name": "ipython",
    "version": 3
   },
   "file_extension": ".py",
   "mimetype": "text/x-python",
   "name": "python",
   "nbconvert_exporter": "python",
   "pygments_lexer": "ipython3",
   "version": "3.10.2"
  }
 },
 "nbformat": 4,
 "nbformat_minor": 5
}
