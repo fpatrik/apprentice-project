{
 "cells": [
  {
   "cell_type": "markdown",
   "id": "05f3d810-625a-442b-b27e-ffef94748b6e",
   "metadata": {},
   "source": [
    "# Exercise 8\n",
    "\n",
    "## Schätzer\n",
    "\n",
    "### Aufgabe 1\n",
    "\n",
    "Schätzer braucht man um unbekannte Parameter einer Wahrscheinlichkeitsverteilung zu ermitteln. Vielleicht wollen wir der Mittelwert einer Wahrscheinlichkeitsverteilung bestimmen. Wir haben bereits gesehen, dass der Durchschnitt ein Schätzer für den Mittelwert einer Verteilung ist. Wir betrachten wieder die Normalverteilung:"
   ]
  },
  {
   "cell_type": "code",
   "execution_count": null,
   "id": "13d1e25e-9491-48bf-a3d1-045deeed45b0",
   "metadata": {},
   "outputs": [],
   "source": [
    "import scipy\n",
    "import numpy as np\n",
    "import matplotlib.pyplot as plt\n",
    "\n",
    "x = np.linspace(-4, 4, num=100)\n",
    "plt.title('Die Normalverteilung')\n",
    "plt.plot(x, [scipy.stats.norm.pdf(v, loc=0, scale=1) for v in x])\n",
    "plt.show()"
   ]
  },
  {
   "cell_type": "markdown",
   "id": "5542e80e-bc09-465d-93b8-dabbbaa8cb0d",
   "metadata": {},
   "source": [
    "Wir sehen hier natürlich sofort, dass der Mittelwert 0 ist. Wir nehmen aber an, dass wir normalverteilte Daten haben und wir den Mittelwert nicht kennen. Wir erstellen nun verschiedene Schätzer, welche eine Liste mit zufälligen Zahlen der Verteilung nehmen und den Mittelwert schätzen. Mach zuerst einen Schätzer, der einfach den Durchschnitt berechnet:"
   ]
  },
  {
   "cell_type": "code",
   "execution_count": null,
   "id": "47fcb58d-7b4f-42ca-939e-3aa5a14edd94",
   "metadata": {},
   "outputs": [],
   "source": [
    "# l ist die Liste mit Zufallszahlen der Verteilung, also z.B. [-0.1, 0.5, -2, 0.75]\n",
    "# Du kannst gerne einfach np.mean verwenden\n",
    "def mean_estimator(l):\n",
    "    ..."
   ]
  },
  {
   "cell_type": "markdown",
   "id": "cace31a7-9c06-41ca-86fd-9b942183ce75",
   "metadata": {},
   "source": [
    "Nun mache einen weiteren Schätzer, welcher den Median berechnet. Zur Erinnerung, der Median ist der Wert in der Mitte der Liste, wenn du die Werte sortierst. Dann ist gerade die Hälfte der Werte grösser und die andere Hälfte kleiner als der Median."
   ]
  },
  {
   "cell_type": "code",
   "execution_count": null,
   "id": "07a67cb9-0a2a-4f92-b3d9-14ecc39bd55a",
   "metadata": {},
   "outputs": [],
   "source": [
    "# Du kannst auch hier np.median verwenden\n",
    "def median_estimator(l):\n",
    "    ..."
   ]
  },
  {
   "cell_type": "markdown",
   "id": "d2e45c9e-61f4-40ec-8c53-ccd7b734edad",
   "metadata": {},
   "source": [
    "Nun machen wir einen etwas komischen Schätzer. Entferne den höchsten Wert aus der Liste `l` und berechne dann den Mittelwert:"
   ]
  },
  {
   "cell_type": "code",
   "execution_count": null,
   "id": "a8e4cf08-08f3-4c73-bb79-938673fd76a5",
   "metadata": {},
   "outputs": [],
   "source": [
    "def mean_ex_max_estimator(l):\n",
    "    ..."
   ]
  },
  {
   "cell_type": "markdown",
   "id": "47ac90dd-7564-46c4-944d-5207a71fc91d",
   "metadata": {},
   "source": [
    "Für den letzten Schätzer entfernen wir sogar 10% der höchsten Werte aus der Liste `l`:"
   ]
  },
  {
   "cell_type": "code",
   "execution_count": null,
   "id": "40a01a0d-4b8e-4325-9d9c-8c8fb3219f3a",
   "metadata": {},
   "outputs": [],
   "source": [
    "def mean_ex_top_10_estimator(l):\n",
    "    ..."
   ]
  },
  {
   "cell_type": "markdown",
   "id": "5385c338-57cb-485e-8ff7-f51d176d204b",
   "metadata": {},
   "source": [
    "Was denkst du welcher dieser Schätzer funktioniert am besten, um den Mittelwert der Normalverteilung zu bestimmen?\n",
    "\n",
    "### Aufgabe 2\n",
    "\n",
    "Nun machen wir eine Funktion um zu schauen wie gut unsere Schätzer sind. Das funktioniert so:\n",
    "1. `evaluate_estimator` bekommt als Argument den `estimator`, also eine Funktion von oben. Zudem gibt es ein zweites Argument `n`, dazu kommen wir gleich.\n",
    "2. Erstelle eine Liste von `n` Normalverteilten Zufallszahlen (verwende `scipy.stats.norm.rvs(loc=0, scale=1, size=n)`).\n",
    "3. Erstelle mit dem Schätzer (`estimator`) eine Schätzung für den Mittelwert.\n",
    "4. Wiederhole Schritte 2 und 3 z.B. 10000 Mal und sammle alle Schätzungen.\n",
    "5. Erstelle nun ein Histogramm mit den Schätzungen. Das könnte etwa so funktionieren: `plt.hist(estimates, bins=np.linspace(-1, 1, 20), density=True)` und dann `plt.show()`"
   ]
  },
  {
   "cell_type": "code",
   "execution_count": null,
   "id": "327cf492-a824-4a3f-aef6-c27ff25c3dfb",
   "metadata": {},
   "outputs": [],
   "source": [
    "def evaluate_estimator(estimator, n=2):\n",
    "    ..."
   ]
  },
  {
   "cell_type": "markdown",
   "id": "afb55ea6-75a0-4434-8336-63b0954a8a1c",
   "metadata": {},
   "source": [
    "### Aufgabe 3\n",
    "\n",
    "Wir möchten nun herausfinden wie gut unsere Schätzer sind. Dafür kannst du nun die Funktion `evaluate_estimator` mit verschiedenen Argumenten verwenden. Schätzer können folgenden Eigenschaften haben:\n",
    "\n",
    "- Ein Schätzer ist *verzerrt* wenn das Maximum im Histogramm nicht beim Mittelwert liegt (in unserem Fall 0) für ein beliebiges `n`.\n",
    "- Ein Schätzer ist *konsistent* wenn das Maximum im Histogramm beim Mittelwert liegt wenn man `n` gross genug macht.\n",
    "\n",
    "Findest du heraus welche Schätzer verzerrt und welche konsistent sind? Achtung, ein Schätzer kann auch beides sein :)."
   ]
  },
  {
   "cell_type": "code",
   "execution_count": null,
   "id": "73914917-88bb-4b79-b75e-4c8b89bd2a8d",
   "metadata": {},
   "outputs": [],
   "source": [
    "evaluate_estimator(mean_estimator, n=2)"
   ]
  },
  {
   "cell_type": "markdown",
   "id": "966cb4f1-1c71-47aa-96f6-785710151f55",
   "metadata": {},
   "source": [
    "### Aufgabe 4\n",
    "\n",
    "Nun möchten wir untersuchen was passiert, wenn wir eine nicht symmetrische Verteilung betrachten. Vielleicht erinnerst du dich noch an die Gamma-Verteilung:"
   ]
  },
  {
   "cell_type": "code",
   "execution_count": null,
   "id": "7a1335ea-c466-4f48-8caa-0a4e151a3a4f",
   "metadata": {},
   "outputs": [],
   "source": [
    "x = np.linspace(-2, 4, num=100)\n",
    "plt.title('Die Gammaverteilung')\n",
    "plt.plot(x, [scipy.stats.gamma.pdf(v, loc=-1, a=1) for v in x])\n",
    "plt.show()"
   ]
  },
  {
   "cell_type": "markdown",
   "id": "abb9c68f-b410-4bd7-b7e3-94be04303088",
   "metadata": {},
   "source": [
    "Erstelle eine neue Funktion `evaluate_estimator_gamma(estimator, n=1)`. Sie funktioniert genau gleich wie `evaluate_estimator`, einfach verwendest du `scipy.stats.gamma.rvs(loc=-1, a=1, size=n)` anstelle der normalverteilten Zufallszahlen. "
   ]
  },
  {
   "cell_type": "code",
   "execution_count": null,
   "id": "540d7c87-f646-4308-8a65-38dc8504158d",
   "metadata": {},
   "outputs": [],
   "source": [
    "def evaluate_estimator_gamma(estimator, n=2):\n",
    "    ..."
   ]
  },
  {
   "cell_type": "markdown",
   "id": "126edd37-2d78-4741-b055-9d85a5755d34",
   "metadata": {},
   "source": [
    "Vergleiche damit nun `mean_estimator` und `mean_estimator`, was stellst du fest?"
   ]
  },
  {
   "cell_type": "code",
   "execution_count": null,
   "id": "333f5350-342a-4544-8b3f-0848a2539299",
   "metadata": {},
   "outputs": [],
   "source": [
    "..."
   ]
  },
  {
   "cell_type": "markdown",
   "id": "43e3f163-71c3-486f-a009-baaa949e899b",
   "metadata": {},
   "source": [
    "### Aufgabe 5\n",
    "\n",
    "Nun habe ich noch eine Verteilung mit einem sogenannten Ausreisser, also einem Wert der nicht der Verteilung entspringt. Das könnte z.B. ein Messfehler sein. Diese Funktion erstellt Zufallszahlen mit einem Ausreisser:"
   ]
  },
  {
   "cell_type": "code",
   "execution_count": null,
   "id": "988dc66e-9e96-4529-8478-9cf8d11b3047",
   "metadata": {},
   "outputs": [],
   "source": [
    "def normal_with_outlier(size=1):\n",
    "    return list(scipy.stats.norm.rvs(loc=0, scale=1, size=size - 1)) + [size /5]"
   ]
  },
  {
   "cell_type": "markdown",
   "id": "ed294456-76ed-40cf-8f93-3c9c450b85b1",
   "metadata": {},
   "source": [
    "Erstelle nochmals eine Kopie von `evaluate_estimator` und verwende die Zufallsvariablen von `normal_with_outlier`:"
   ]
  },
  {
   "cell_type": "code",
   "execution_count": null,
   "id": "220bad25-661f-45b3-9c49-626696249343",
   "metadata": {},
   "outputs": [],
   "source": [
    "def evaluate_estimator_normal_with_outlier(estimator, n=2):\n",
    "    ..."
   ]
  },
  {
   "cell_type": "markdown",
   "id": "9f7b2379-2688-4b67-9c9e-4c39c2425f03",
   "metadata": {},
   "source": [
    "Vergleiche damit nun wieder `mean_estimator` und `mean_estimator`, was stellst du fest?"
   ]
  },
  {
   "cell_type": "code",
   "execution_count": null,
   "id": "79eb2fbe-7aae-4cd9-bea0-2c0940b90e40",
   "metadata": {},
   "outputs": [],
   "source": [
    "..."
   ]
  },
  {
   "cell_type": "markdown",
   "id": "73dbd904-77f8-4687-a5e3-f3f4ecdbf604",
   "metadata": {},
   "source": [
    "### Aufgabe 6\n",
    "\n",
    "Statistiker haben nicht nur herausgefunden wie man den Mittelwert einer Verteilung schätzen kann, sondern haben auch untersucht wie gut diese Schätzungen sind. Insbesondere haben sie ein sogenanntes Konfidenzintervall konstruiert. Das Konfidenzintervall sagt dir, dass der Mittelwert in z.B. 90% aller Fälle zwischen zwei Zahlen liegt. Hier ist eine Funktion, welche dieses Intervall für eine Liste (`l`) mit normalverteilten Zufallszahlen berechnet:"
   ]
  },
  {
   "cell_type": "code",
   "execution_count": null,
   "id": "e068852e-09ae-4bfd-8104-75324a87234c",
   "metadata": {},
   "outputs": [],
   "source": [
    "def confidence_interval_90(l):\n",
    "    m = np.mean(l)\n",
    "    v = np.var(l)\n",
    "    t = scipy.stats.norm.ppf((1 + 0.9) / 2, loc=0, scale=1) / np.sqrt(len(l))\n",
    "    return (m - t, m + t)"
   ]
  },
  {
   "cell_type": "markdown",
   "id": "9f3dfb84-df62-4c12-b1c4-889e2980be3c",
   "metadata": {},
   "source": [
    "Erstelle Zufallszahlen mit `scipy.stats.norm.rvs(loc=0, scale=1, size=...)`, was passiert mit dem Konfidenzinterval wenn du längere Listen erstellst?"
   ]
  },
  {
   "cell_type": "code",
   "execution_count": null,
   "id": "1c522c35-0387-4e9d-890f-f5e8a7d0b204",
   "metadata": {},
   "outputs": [],
   "source": [
    "..."
   ]
  },
  {
   "cell_type": "markdown",
   "id": "02b86cd7-2583-4577-b538-336ad9f73e8e",
   "metadata": {},
   "source": [
    "Überprüfe nun, ob der Mittelwert (0) tatsächlich in 90% der Fälle im Konfidenzintervall liegt. Dafür musst du viele (z.B. 1000) Listen mit Zufallszahlen erstellen und schauen, wie of 0 im Intervall liegt."
   ]
  },
  {
   "cell_type": "code",
   "execution_count": null,
   "id": "17e51059-b29d-424c-82e4-fa8c88c84761",
   "metadata": {},
   "outputs": [],
   "source": [
    "..."
   ]
  }
 ],
 "metadata": {
  "kernelspec": {
   "display_name": "Python 3 (ipykernel)",
   "language": "python",
   "name": "python3"
  },
  "language_info": {
   "codemirror_mode": {
    "name": "ipython",
    "version": 3
   },
   "file_extension": ".py",
   "mimetype": "text/x-python",
   "name": "python",
   "nbconvert_exporter": "python",
   "pygments_lexer": "ipython3",
   "version": "3.10.2"
  }
 },
 "nbformat": 4,
 "nbformat_minor": 5
}
