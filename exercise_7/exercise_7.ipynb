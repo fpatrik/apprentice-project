{
 "cells": [
  {
   "cell_type": "markdown",
   "id": "b98166b7-5bff-4053-86ea-ddb5f10efa18",
   "metadata": {},
   "source": [
    "# Exercise 7\n",
    "\n",
    "## Sortieren und Komplexität\n",
    "\n",
    "Als Programmierer haben wir das Glück das die meisten gängigen Algorithmen bereits umgesetzt wurden, im Zweifel deutlich besser als wir es selbst könnten. Ich möchte mit dir trotzdem einer der wichtigsten Algorithmen selbst umsetzten, das Sortieren!\n",
    "\n",
    "### Aufgabe 1\n",
    "\n",
    "Wir implementieren zuerst einen \"schlechten\" Sortieralgorithmus, nämlich Bubble-Sort. Das funktioniert wie folgt:\n",
    "1. Wir betrachten die ersten zwei Elemente der Liste und tauschen sie, falls sie nicht in aufsteigender Reihenfolge sind.\n",
    "2. Wir gehen zum zweiten und zum dritten Element und machen das gleiche...\n",
    "3. Wir machen weiter, bis wir am Ende der Liste sind. Dann beginnen wir wieder von vorne.\n",
    "4. Wenn die Liste richtig sortiert ist sind wir fertig.\n",
    "\n",
    "Setze Bubble-Sort um! Mache zuerst eine Funktion `is_sorted`, welche überprüft, ob eine Liste sortiert ist (`return True`) oder nicht (`return False`)."
   ]
  },
  {
   "cell_type": "code",
   "execution_count": 12,
   "id": "27b551c6-41ce-4044-a861-fdc4d08e4474",
   "metadata": {},
   "outputs": [],
   "source": [
    "# Wahrscheinlich ist es hier einfacher mit Indices zu arbeiten:\n",
    "# for index in range(list_length):\n",
    "#     print(l[index])\n",
    "def is_sorted(l):\n",
    "    ..."
   ]
  },
  {
   "cell_type": "code",
   "execution_count": 13,
   "id": "9d370efe-a063-4d48-887e-866ebb963015",
   "metadata": {},
   "outputs": [],
   "source": [
    "assert is_sorted([1, 2, 3, 5])\n",
    "assert not is_sorted([1, 2, 3, 2])"
   ]
  },
  {
   "cell_type": "markdown",
   "id": "25359102-2e31-453e-b03a-271c2a8b1416",
   "metadata": {},
   "source": [
    "Setzte nun Bubble-Sort fertig um. Du kannst z.B. `is_sorted` mit einer `while`-Schleife verwenden. In der `while`-Schlaufe machst du dann eine weitere Schlaufe in welcher du die Elemente tauschst falls nötig."
   ]
  },
  {
   "cell_type": "code",
   "execution_count": 18,
   "id": "0a9cad37-43e0-418b-9f51-2411c0d38289",
   "metadata": {},
   "outputs": [],
   "source": [
    "def bubble_sort(l):\n",
    "    ..."
   ]
  },
  {
   "cell_type": "code",
   "execution_count": 19,
   "id": "7066549b-81b1-42d0-a45e-5bb2ec1bbbef",
   "metadata": {},
   "outputs": [],
   "source": [
    "import random\n",
    "test_list = list(range(100))\n",
    "random.shuffle(test_list)\n",
    "assert bubble_sort(test_list) == sorted(test_list)"
   ]
  },
  {
   "cell_type": "markdown",
   "id": "f66b2f62-0cee-4117-a0ae-34214fe2d0b3",
   "metadata": {},
   "source": [
    "## Aufgabe 2\n",
    "\n",
    "Nun wollen wir Quick-Sort umsetzten. Das ist ein bisschen komplizierter, aber auch deutlich effizienter. Hier ist die Anleitung:\n",
    "\n",
    "0. Falls die Liste Länge 1 (oder 0) hat, bist du schon fertig (`return l`).\n",
    "1. Wähle ein zufälliges Element aus der Liste als Referenz aus.\n",
    "2. Teile nun die Elemente der Liste in zwei Teillisten, je nachdem ob sie grösser oder kleiner sind als das Referenzelement (beachte auch denn Fall, dass sie gleich sind).\n",
    "3. Führe nun Quick-Sort für die beiden Teillisten aus. Ja, du kannst `quick_sort` innerhalb der Funktion selber aufrufen (das nennt man Rekursion)!.\n",
    "4. Nun musst du die sortierten Teillisten und wieder richtig zusammenfügen, sodass die gesamte Liste sortiert ist.\n",
    "\n",
    "Kannst du die Funktion umsetzten? Ich helfe dir gerne weiter..."
   ]
  },
  {
   "cell_type": "code",
   "execution_count": 60,
   "id": "507d6541-3fa0-4c30-8d8f-1ec81d488ee0",
   "metadata": {},
   "outputs": [],
   "source": [
    "def quick_sort(l):\n",
    "    ...\n",
    "    "
   ]
  },
  {
   "cell_type": "code",
   "execution_count": 61,
   "id": "b4f3a711-2654-4e5a-8f80-9411689a3b31",
   "metadata": {},
   "outputs": [
    {
     "name": "stdout",
     "output_type": "stream",
     "text": [
      "[0, 1, 2, 3, 4, 5, 6, 7, 8, 9]\n"
     ]
    }
   ],
   "source": [
    "test_list = list(range(10))\n",
    "random.shuffle(test_list)\n",
    "assert quick_sort(test_list) == sorted(test_list)"
   ]
  },
  {
   "cell_type": "markdown",
   "id": "059e60f7-7aa4-43ad-b0f0-0d4a046cdcaa",
   "metadata": {},
   "source": [
    "### Aufgabe 3\n",
    "\n",
    "Nun möchten wir untersuchen, wie \"gut\" die beiden Algorithmen sind. Finde heraus wie man die Zeit einer Funktionsausführung messen kann in Python. Messe dann die Zeit für die Ausführung beider Funktionen für Listen mit verschiedenen Längen. Mache dann einen Plot (mit `matplotlib`) der Laufzeiten der beiden Funktionen (die Länge der Liste in der horizontalen x-Achse, die Ausführzeit in der vertikalen y-Achse). Wenn du willst kannst du auch noch die bereits in Python verbaute Funktion `sorted` vergleichen. Ich helfe dir bein Unklarheiten gerne weiter!"
   ]
  },
  {
   "cell_type": "code",
   "execution_count": null,
   "id": "54b0beab-d4af-4dee-acfb-8de2a2764ceb",
   "metadata": {},
   "outputs": [],
   "source": []
  }
 ],
 "metadata": {
  "kernelspec": {
   "display_name": "Python 3 (ipykernel)",
   "language": "python",
   "name": "python3"
  },
  "language_info": {
   "codemirror_mode": {
    "name": "ipython",
    "version": 3
   },
   "file_extension": ".py",
   "mimetype": "text/x-python",
   "name": "python",
   "nbconvert_exporter": "python",
   "pygments_lexer": "ipython3",
   "version": "3.10.2"
  }
 },
 "nbformat": 4,
 "nbformat_minor": 5
}
